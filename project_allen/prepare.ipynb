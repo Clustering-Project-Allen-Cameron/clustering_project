{
 "cells": [
  {
   "cell_type": "markdown",
   "metadata": {},
   "source": [
    "# Acquisition, Prep, and Initial Exploration"
   ]
  },
  {
   "cell_type": "code",
   "execution_count": 1,
   "metadata": {},
   "outputs": [],
   "source": [
    "import pandas as pd\n",
    "import numpy as np\n",
    "from acquire import acquire_data\n",
    "import math"
   ]
  },
  {
   "cell_type": "code",
   "execution_count": 2,
   "metadata": {
    "scrolled": true
   },
   "outputs": [
    {
     "data": {
      "text/plain": [
       "(52442, 62)"
      ]
     },
     "execution_count": 2,
     "metadata": {},
     "output_type": "execute_result"
    }
   ],
   "source": [
    "df = acquire_data()\n",
    "df.shape"
   ]
  },
  {
   "cell_type": "markdown",
   "metadata": {},
   "source": [
    "## Missing Values\n",
    "\n",
    "- Handle missing values\n",
    "\n",
    "- backup/explain your decisions\n",
    "\n",
    "- Prep.py: Write function for reproducibility.\n",
    "\n",
    "- Run function in final notebook to complete the task."
   ]
  },
  {
   "cell_type": "code",
   "execution_count": 3,
   "metadata": {},
   "outputs": [],
   "source": [
    "def missing_value_percentage(series):\n",
    "    return series.isna().sum() / series.size\n",
    "    "
   ]
  },
  {
   "cell_type": "code",
   "execution_count": 4,
   "metadata": {},
   "outputs": [
    {
     "data": {
      "text/plain": [
       "parcelid                    0.000000\n",
       "id                          0.000000\n",
       "airconditioningtypeid       0.739941\n",
       "architecturalstyletypeid    0.998665\n",
       "basementsqft                0.999104\n",
       "                              ...   \n",
       "taxdelinquencyyear          0.960356\n",
       "censustractandblock         0.002345\n",
       "id.1                        0.000000\n",
       "logerror                    0.000000\n",
       "transactiondate             0.000000\n",
       "Length: 62, dtype: float64"
      ]
     },
     "execution_count": 4,
     "metadata": {},
     "output_type": "execute_result"
    }
   ],
   "source": [
    "df.apply(missing_value_percentage, axis = 0)"
   ]
  },
  {
   "cell_type": "code",
   "execution_count": 5,
   "metadata": {},
   "outputs": [],
   "source": [
    "def drop_useless_columns(df, percentage):\n",
    "    #check the percentage of missing value of each column\n",
    "    s = df.apply(missing_value_percentage, axis = 0)\n",
    "    # drop columns whose missing values are more than  percentage\n",
    "    df = df.drop(columns = s[s > percentage].index.tolist()) \n",
    "    return df\n",
    "    "
   ]
  },
  {
   "cell_type": "code",
   "execution_count": 6,
   "metadata": {
    "scrolled": false
   },
   "outputs": [
    {
     "data": {
      "text/plain": [
       "(52442, 29)"
      ]
     },
     "execution_count": 6,
     "metadata": {},
     "output_type": "execute_result"
    }
   ],
   "source": [
    "df = drop_useless_columns(df, .3)\n",
    "df.shape"
   ]
  },
  {
   "cell_type": "code",
   "execution_count": 7,
   "metadata": {},
   "outputs": [],
   "source": [
    "def drop_duplicated_observation(df):\n",
    "    df = df.sort_values('transactiondate', ascending=False)\n",
    "    #keep the latest transaction date\n",
    "    return df.drop_duplicates(subset='parcelid', keep='last')"
   ]
  },
  {
   "cell_type": "code",
   "execution_count": 8,
   "metadata": {
    "scrolled": true
   },
   "outputs": [
    {
     "data": {
      "text/plain": [
       "(52442, 29)"
      ]
     },
     "execution_count": 8,
     "metadata": {},
     "output_type": "execute_result"
    }
   ],
   "source": [
    "df.shape"
   ]
  },
  {
   "cell_type": "code",
   "execution_count": 9,
   "metadata": {},
   "outputs": [
    {
     "data": {
      "text/plain": [
       "(52320, 29)"
      ]
     },
     "execution_count": 9,
     "metadata": {},
     "output_type": "execute_result"
    }
   ],
   "source": [
    "df = drop_duplicated_observation(df)\n",
    "df.shape"
   ]
  },
  {
   "cell_type": "code",
   "execution_count": 10,
   "metadata": {
    "scrolled": true
   },
   "outputs": [],
   "source": [
    "#drop nonuseful columns based on domin knowledge\n",
    "def drop_ineffecitve_columns(df):\n",
    "    ineffecitve_columns = ['id','id.1','calculatedbathnbr','finishedsquarefeet12',\n",
    "                          'fullbathcnt','roomcnt','assessmentyear','censustractandblock',\n",
    "                          'propertylandusetypeid','rawcensustractandblock','propertycountylandusecode',\n",
    "                          'transactiondate','parcelid','regionidcounty']\n",
    "    df = df.drop(columns=ineffecitve_columns)\n",
    "    return df\n"
   ]
  },
  {
   "cell_type": "code",
   "execution_count": 11,
   "metadata": {},
   "outputs": [
    {
     "data": {
      "text/plain": [
       "(52320, 15)"
      ]
     },
     "execution_count": 11,
     "metadata": {},
     "output_type": "execute_result"
    }
   ],
   "source": [
    "df = drop_ineffecitve_columns(df)\n",
    "df.shape"
   ]
  },
  {
   "cell_type": "code",
   "execution_count": 12,
   "metadata": {},
   "outputs": [
    {
     "data": {
      "text/plain": [
       "bathroomcnt                        0\n",
       "bedroomcnt                         0\n",
       "calculatedfinishedsquarefeet      81\n",
       "fips                               0\n",
       "latitude                           0\n",
       "longitude                          0\n",
       "lotsizesquarefeet                366\n",
       "regionidcity                    1036\n",
       "regionidzip                       26\n",
       "yearbuilt                        114\n",
       "structuretaxvaluedollarcnt        82\n",
       "taxvaluedollarcnt                  1\n",
       "landtaxvaluedollarcnt              1\n",
       "taxamount                          4\n",
       "logerror                           0\n",
       "dtype: int64"
      ]
     },
     "execution_count": 12,
     "metadata": {},
     "output_type": "execute_result"
    }
   ],
   "source": [
    "df.isna().sum()"
   ]
  },
  {
   "cell_type": "code",
   "execution_count": 13,
   "metadata": {},
   "outputs": [],
   "source": [
    "#drop null observations\n",
    "def drop_null(df):\n",
    "    return df.dropna()"
   ]
  },
  {
   "cell_type": "code",
   "execution_count": 14,
   "metadata": {
    "scrolled": true
   },
   "outputs": [
    {
     "data": {
      "text/plain": [
       "(50799, 15)"
      ]
     },
     "execution_count": 14,
     "metadata": {},
     "output_type": "execute_result"
    }
   ],
   "source": [
    "df =drop_null(df)\n",
    "df.shape"
   ]
  },
  {
   "cell_type": "code",
   "execution_count": 15,
   "metadata": {},
   "outputs": [
    {
     "data": {
      "text/plain": [
       "6404     8.013270e+00\n",
       "35632    1.163762e+01\n",
       "44268    3.959205e+02\n",
       "31628    5.809805e+02\n",
       "43581    7.284792e+02\n",
       "             ...     \n",
       "44642    9.211423e+08\n",
       "29023    1.212699e+09\n",
       "51691    1.422160e+09\n",
       "6536     1.761314e+09\n",
       "392      1.213057e+12\n",
       "Length: 50799, dtype: float64"
      ]
     },
     "execution_count": 15,
     "metadata": {},
     "output_type": "execute_result"
    }
   ],
   "source": [
    "(df.taxvaluedollarcnt*10**df.logerror).sort_values()"
   ]
  },
  {
   "cell_type": "markdown",
   "metadata": {},
   "source": [
    "## Create new features\n",
    "- yearbuilt to age\n",
    "- tax_rate = taxamount / taxvaluedollarcnt\n",
    "- drop structuretaxvaluedollarcnt, taxvaluedollarcnt,\tlandtaxvaluedollarcnt,\ttaxamount"
   ]
  },
  {
   "cell_type": "code",
   "execution_count": 16,
   "metadata": {},
   "outputs": [],
   "source": [
    "def create_new_features(df):\n",
    "    df['age']=(2017 - df.yearbuilt)\n",
    "    df['tax_rate']= df.taxamount/df.taxvaluedollarcnt*100\n",
    "    df['estimate'] = df.taxvaluedollarcnt*10**df.logerror\n",
    "    df = df.drop(columns=['yearbuilt',\n",
    "                      'structuretaxvaluedollarcnt',  \n",
    "                      'landtaxvaluedollarcnt',\n",
    "                      'taxamount'])\n",
    "    df = df.rename(columns={'calculatedfinishedsquarefeet':'house_size', \n",
    "                            'lotsizesquarefeet':'lotsize',\n",
    "                           'taxvaluedollarcnt': 'actual_value'})\n",
    "    return df"
   ]
  },
  {
   "cell_type": "code",
   "execution_count": 17,
   "metadata": {
    "scrolled": true
   },
   "outputs": [
    {
     "data": {
      "text/html": [
       "<div>\n",
       "<style scoped>\n",
       "    .dataframe tbody tr th:only-of-type {\n",
       "        vertical-align: middle;\n",
       "    }\n",
       "\n",
       "    .dataframe tbody tr th {\n",
       "        vertical-align: top;\n",
       "    }\n",
       "\n",
       "    .dataframe thead th {\n",
       "        text-align: right;\n",
       "    }\n",
       "</style>\n",
       "<table border=\"1\" class=\"dataframe\">\n",
       "  <thead>\n",
       "    <tr style=\"text-align: right;\">\n",
       "      <th></th>\n",
       "      <th>bathroomcnt</th>\n",
       "      <th>bedroomcnt</th>\n",
       "      <th>house_size</th>\n",
       "      <th>fips</th>\n",
       "      <th>latitude</th>\n",
       "      <th>longitude</th>\n",
       "      <th>lotsize</th>\n",
       "      <th>regionidcity</th>\n",
       "      <th>regionidzip</th>\n",
       "      <th>actual_value</th>\n",
       "      <th>logerror</th>\n",
       "      <th>age</th>\n",
       "      <th>tax_rate</th>\n",
       "      <th>estimate</th>\n",
       "    </tr>\n",
       "  </thead>\n",
       "  <tbody>\n",
       "    <tr>\n",
       "      <td>52440</td>\n",
       "      <td>2.0</td>\n",
       "      <td>3.0</td>\n",
       "      <td>1762.0</td>\n",
       "      <td>6037.0</td>\n",
       "      <td>33937685.0</td>\n",
       "      <td>-117996709.0</td>\n",
       "      <td>6347.0</td>\n",
       "      <td>14634.0</td>\n",
       "      <td>96171.0</td>\n",
       "      <td>522000.0</td>\n",
       "      <td>0.007204</td>\n",
       "      <td>62.0</td>\n",
       "      <td>1.210182</td>\n",
       "      <td>5.307310e+05</td>\n",
       "    </tr>\n",
       "    <tr>\n",
       "      <td>52439</td>\n",
       "      <td>1.0</td>\n",
       "      <td>3.0</td>\n",
       "      <td>1032.0</td>\n",
       "      <td>6037.0</td>\n",
       "      <td>34040895.0</td>\n",
       "      <td>-118038169.0</td>\n",
       "      <td>5074.0</td>\n",
       "      <td>36502.0</td>\n",
       "      <td>96480.0</td>\n",
       "      <td>49546.0</td>\n",
       "      <td>0.037129</td>\n",
       "      <td>63.0</td>\n",
       "      <td>1.768922</td>\n",
       "      <td>5.396813e+04</td>\n",
       "    </tr>\n",
       "    <tr>\n",
       "      <td>52438</td>\n",
       "      <td>2.0</td>\n",
       "      <td>4.0</td>\n",
       "      <td>1612.0</td>\n",
       "      <td>6111.0</td>\n",
       "      <td>34300140.0</td>\n",
       "      <td>-118706327.0</td>\n",
       "      <td>12105.0</td>\n",
       "      <td>27110.0</td>\n",
       "      <td>97116.0</td>\n",
       "      <td>67205.0</td>\n",
       "      <td>0.013209</td>\n",
       "      <td>53.0</td>\n",
       "      <td>1.647913</td>\n",
       "      <td>6.928037e+04</td>\n",
       "    </tr>\n",
       "    <tr>\n",
       "      <td>52437</td>\n",
       "      <td>2.0</td>\n",
       "      <td>2.0</td>\n",
       "      <td>1286.0</td>\n",
       "      <td>6037.0</td>\n",
       "      <td>34245368.0</td>\n",
       "      <td>-118282383.0</td>\n",
       "      <td>47405.0</td>\n",
       "      <td>12447.0</td>\n",
       "      <td>96284.0</td>\n",
       "      <td>354621.0</td>\n",
       "      <td>0.020615</td>\n",
       "      <td>77.0</td>\n",
       "      <td>1.262878</td>\n",
       "      <td>3.718604e+05</td>\n",
       "    </tr>\n",
       "    <tr>\n",
       "      <td>52311</td>\n",
       "      <td>4.0</td>\n",
       "      <td>4.0</td>\n",
       "      <td>2440.0</td>\n",
       "      <td>6037.0</td>\n",
       "      <td>34009367.0</td>\n",
       "      <td>-118430958.0</td>\n",
       "      <td>5553.0</td>\n",
       "      <td>12447.0</td>\n",
       "      <td>96047.0</td>\n",
       "      <td>1550000.0</td>\n",
       "      <td>-0.056152</td>\n",
       "      <td>80.0</td>\n",
       "      <td>1.203548</td>\n",
       "      <td>1.362007e+06</td>\n",
       "    </tr>\n",
       "  </tbody>\n",
       "</table>\n",
       "</div>"
      ],
      "text/plain": [
       "       bathroomcnt  bedroomcnt  house_size    fips    latitude    longitude  \\\n",
       "52440          2.0         3.0      1762.0  6037.0  33937685.0 -117996709.0   \n",
       "52439          1.0         3.0      1032.0  6037.0  34040895.0 -118038169.0   \n",
       "52438          2.0         4.0      1612.0  6111.0  34300140.0 -118706327.0   \n",
       "52437          2.0         2.0      1286.0  6037.0  34245368.0 -118282383.0   \n",
       "52311          4.0         4.0      2440.0  6037.0  34009367.0 -118430958.0   \n",
       "\n",
       "       lotsize  regionidcity  regionidzip  actual_value  logerror   age  \\\n",
       "52440   6347.0       14634.0      96171.0      522000.0  0.007204  62.0   \n",
       "52439   5074.0       36502.0      96480.0       49546.0  0.037129  63.0   \n",
       "52438  12105.0       27110.0      97116.0       67205.0  0.013209  53.0   \n",
       "52437  47405.0       12447.0      96284.0      354621.0  0.020615  77.0   \n",
       "52311   5553.0       12447.0      96047.0     1550000.0 -0.056152  80.0   \n",
       "\n",
       "       tax_rate      estimate  \n",
       "52440  1.210182  5.307310e+05  \n",
       "52439  1.768922  5.396813e+04  \n",
       "52438  1.647913  6.928037e+04  \n",
       "52437  1.262878  3.718604e+05  \n",
       "52311  1.203548  1.362007e+06  "
      ]
     },
     "execution_count": 17,
     "metadata": {},
     "output_type": "execute_result"
    }
   ],
   "source": [
    "df = create_new_features(df)\n",
    "df.head()"
   ]
  },
  {
   "cell_type": "markdown",
   "metadata": {},
   "source": [
    "FIPS:\n",
    "\n",
    "- 6037: Los Angeles County\n",
    "- 6059: Orange County\n",
    "- 6111: Ventura County"
   ]
  },
  {
   "cell_type": "code",
   "execution_count": 18,
   "metadata": {},
   "outputs": [],
   "source": [
    "def creat_dummy_var(df):\n",
    "    county_df = pd.get_dummies(df.fips)\n",
    "    county_df.columns = ['LA', 'Orange', 'Ventura']\n",
    "    # concatenate the dataframe with the 3 county columns to the original dataframe\n",
    "    df= pd.concat([df, county_df], axis =1)\n",
    "    # drop regionidcounty and fips columns\n",
    "    df = df.drop(columns = ['fips'])\n",
    "    return df\n",
    "    "
   ]
  },
  {
   "cell_type": "code",
   "execution_count": 19,
   "metadata": {},
   "outputs": [
    {
     "data": {
      "text/html": [
       "<div>\n",
       "<style scoped>\n",
       "    .dataframe tbody tr th:only-of-type {\n",
       "        vertical-align: middle;\n",
       "    }\n",
       "\n",
       "    .dataframe tbody tr th {\n",
       "        vertical-align: top;\n",
       "    }\n",
       "\n",
       "    .dataframe thead th {\n",
       "        text-align: right;\n",
       "    }\n",
       "</style>\n",
       "<table border=\"1\" class=\"dataframe\">\n",
       "  <thead>\n",
       "    <tr style=\"text-align: right;\">\n",
       "      <th></th>\n",
       "      <th>bathroomcnt</th>\n",
       "      <th>bedroomcnt</th>\n",
       "      <th>house_size</th>\n",
       "      <th>latitude</th>\n",
       "      <th>longitude</th>\n",
       "      <th>lotsize</th>\n",
       "      <th>regionidcity</th>\n",
       "      <th>regionidzip</th>\n",
       "      <th>actual_value</th>\n",
       "      <th>logerror</th>\n",
       "      <th>age</th>\n",
       "      <th>tax_rate</th>\n",
       "      <th>estimate</th>\n",
       "      <th>LA</th>\n",
       "      <th>Orange</th>\n",
       "      <th>Ventura</th>\n",
       "    </tr>\n",
       "  </thead>\n",
       "  <tbody>\n",
       "    <tr>\n",
       "      <td>52440</td>\n",
       "      <td>2.0</td>\n",
       "      <td>3.0</td>\n",
       "      <td>1762.0</td>\n",
       "      <td>33937685.0</td>\n",
       "      <td>-117996709.0</td>\n",
       "      <td>6347.0</td>\n",
       "      <td>14634.0</td>\n",
       "      <td>96171.0</td>\n",
       "      <td>522000.0</td>\n",
       "      <td>0.007204</td>\n",
       "      <td>62.0</td>\n",
       "      <td>1.210182</td>\n",
       "      <td>5.307310e+05</td>\n",
       "      <td>1</td>\n",
       "      <td>0</td>\n",
       "      <td>0</td>\n",
       "    </tr>\n",
       "    <tr>\n",
       "      <td>52439</td>\n",
       "      <td>1.0</td>\n",
       "      <td>3.0</td>\n",
       "      <td>1032.0</td>\n",
       "      <td>34040895.0</td>\n",
       "      <td>-118038169.0</td>\n",
       "      <td>5074.0</td>\n",
       "      <td>36502.0</td>\n",
       "      <td>96480.0</td>\n",
       "      <td>49546.0</td>\n",
       "      <td>0.037129</td>\n",
       "      <td>63.0</td>\n",
       "      <td>1.768922</td>\n",
       "      <td>5.396813e+04</td>\n",
       "      <td>1</td>\n",
       "      <td>0</td>\n",
       "      <td>0</td>\n",
       "    </tr>\n",
       "    <tr>\n",
       "      <td>52438</td>\n",
       "      <td>2.0</td>\n",
       "      <td>4.0</td>\n",
       "      <td>1612.0</td>\n",
       "      <td>34300140.0</td>\n",
       "      <td>-118706327.0</td>\n",
       "      <td>12105.0</td>\n",
       "      <td>27110.0</td>\n",
       "      <td>97116.0</td>\n",
       "      <td>67205.0</td>\n",
       "      <td>0.013209</td>\n",
       "      <td>53.0</td>\n",
       "      <td>1.647913</td>\n",
       "      <td>6.928037e+04</td>\n",
       "      <td>0</td>\n",
       "      <td>0</td>\n",
       "      <td>1</td>\n",
       "    </tr>\n",
       "    <tr>\n",
       "      <td>52437</td>\n",
       "      <td>2.0</td>\n",
       "      <td>2.0</td>\n",
       "      <td>1286.0</td>\n",
       "      <td>34245368.0</td>\n",
       "      <td>-118282383.0</td>\n",
       "      <td>47405.0</td>\n",
       "      <td>12447.0</td>\n",
       "      <td>96284.0</td>\n",
       "      <td>354621.0</td>\n",
       "      <td>0.020615</td>\n",
       "      <td>77.0</td>\n",
       "      <td>1.262878</td>\n",
       "      <td>3.718604e+05</td>\n",
       "      <td>1</td>\n",
       "      <td>0</td>\n",
       "      <td>0</td>\n",
       "    </tr>\n",
       "    <tr>\n",
       "      <td>52311</td>\n",
       "      <td>4.0</td>\n",
       "      <td>4.0</td>\n",
       "      <td>2440.0</td>\n",
       "      <td>34009367.0</td>\n",
       "      <td>-118430958.0</td>\n",
       "      <td>5553.0</td>\n",
       "      <td>12447.0</td>\n",
       "      <td>96047.0</td>\n",
       "      <td>1550000.0</td>\n",
       "      <td>-0.056152</td>\n",
       "      <td>80.0</td>\n",
       "      <td>1.203548</td>\n",
       "      <td>1.362007e+06</td>\n",
       "      <td>1</td>\n",
       "      <td>0</td>\n",
       "      <td>0</td>\n",
       "    </tr>\n",
       "  </tbody>\n",
       "</table>\n",
       "</div>"
      ],
      "text/plain": [
       "       bathroomcnt  bedroomcnt  house_size    latitude    longitude  lotsize  \\\n",
       "52440          2.0         3.0      1762.0  33937685.0 -117996709.0   6347.0   \n",
       "52439          1.0         3.0      1032.0  34040895.0 -118038169.0   5074.0   \n",
       "52438          2.0         4.0      1612.0  34300140.0 -118706327.0  12105.0   \n",
       "52437          2.0         2.0      1286.0  34245368.0 -118282383.0  47405.0   \n",
       "52311          4.0         4.0      2440.0  34009367.0 -118430958.0   5553.0   \n",
       "\n",
       "       regionidcity  regionidzip  actual_value  logerror   age  tax_rate  \\\n",
       "52440       14634.0      96171.0      522000.0  0.007204  62.0  1.210182   \n",
       "52439       36502.0      96480.0       49546.0  0.037129  63.0  1.768922   \n",
       "52438       27110.0      97116.0       67205.0  0.013209  53.0  1.647913   \n",
       "52437       12447.0      96284.0      354621.0  0.020615  77.0  1.262878   \n",
       "52311       12447.0      96047.0     1550000.0 -0.056152  80.0  1.203548   \n",
       "\n",
       "           estimate  LA  Orange  Ventura  \n",
       "52440  5.307310e+05   1       0        0  \n",
       "52439  5.396813e+04   1       0        0  \n",
       "52438  6.928037e+04   0       0        1  \n",
       "52437  3.718604e+05   1       0        0  \n",
       "52311  1.362007e+06   1       0        0  "
      ]
     },
     "execution_count": 19,
     "metadata": {},
     "output_type": "execute_result"
    }
   ],
   "source": [
    "df=creat_dummy_var(df)\n",
    "df.head()"
   ]
  },
  {
   "cell_type": "markdown",
   "metadata": {},
   "source": [
    "## Data Types\n",
    "\n",
    "- Prep.py: Write a function that takes in a dataframe and a list of column names (ones that are numeric and don't represent numbers) and returns the dataframe with the datatypes of those columns changed to a non-numeric type.\n",
    "\n",
    "- In your notebook, use this function to appropriately transform any numeric columns that should not be treated as numbers.\n",
    "\n",
    "- Prep.py: Do the same, but changing objects or categories to numeric types."
   ]
  },
  {
   "cell_type": "code",
   "execution_count": 20,
   "metadata": {
    "scrolled": true
   },
   "outputs": [
    {
     "data": {
      "text/plain": [
       "bathroomcnt     float64\n",
       "bedroomcnt      float64\n",
       "house_size      float64\n",
       "latitude        float64\n",
       "longitude       float64\n",
       "lotsize         float64\n",
       "regionidcity    float64\n",
       "regionidzip     float64\n",
       "actual_value    float64\n",
       "logerror        float64\n",
       "age             float64\n",
       "tax_rate        float64\n",
       "estimate        float64\n",
       "LA                uint8\n",
       "Orange            uint8\n",
       "Ventura           uint8\n",
       "dtype: object"
      ]
     },
     "execution_count": 20,
     "metadata": {},
     "output_type": "execute_result"
    }
   ],
   "source": [
    "df.dtypes"
   ]
  },
  {
   "cell_type": "code",
   "execution_count": 21,
   "metadata": {},
   "outputs": [],
   "source": [
    "def regassign_dtypes(df):\n",
    "    df[['regionidcity','regionidzip']] = df[['regionidcity','regionidzip']].astype('object')\n",
    "    return df"
   ]
  },
  {
   "cell_type": "code",
   "execution_count": 22,
   "metadata": {},
   "outputs": [
    {
     "data": {
      "text/plain": [
       "bathroomcnt     float64\n",
       "bedroomcnt      float64\n",
       "house_size      float64\n",
       "latitude        float64\n",
       "longitude       float64\n",
       "lotsize         float64\n",
       "regionidcity     object\n",
       "regionidzip      object\n",
       "actual_value    float64\n",
       "logerror        float64\n",
       "age             float64\n",
       "tax_rate        float64\n",
       "estimate        float64\n",
       "LA                uint8\n",
       "Orange            uint8\n",
       "Ventura           uint8\n",
       "dtype: object"
      ]
     },
     "execution_count": 22,
     "metadata": {},
     "output_type": "execute_result"
    }
   ],
   "source": [
    "df = regassign_dtypes(df)\n",
    "df.dtypes"
   ]
  },
  {
   "cell_type": "markdown",
   "metadata": {},
   "source": [
    "## Outliers\n",
    "\n",
    "- Prep.py: You can use what you did in exercises and adapt, enhance or improve if you find the time and need.\n",
    "\n",
    "- Prep.py: Write a function that accepts a series (i.e. one column from a data frame) and summarizes how many outliers are in the series. This function should accept a second parameter that determines how outliers are detected, with the ability to detect outliers in 3 ways: IQR, standard deviations (z-score), percentiles).\n",
    "\n",
    "- Run the function in your final notebook to identify/demonstrat columns where you should handle the outliers.\n",
    "\n",
    "- Prep.py: Write a function that accepts the zillow data frame and removes the outliers. You should make a decision and document how you will remove outliers.\n",
    "\n",
    "- Run the function in your final notebook.\n",
    "\n",
    "- Is there erroneous data you have found that you need to remove or repair? If so, take action.\n",
    "\n",
    "- Are there outliers you want to \"squeeze in\" to a max value? (e.g. all bathrooms > 6 => bathrooms = 6). If so, make those changes."
   ]
  },
  {
   "cell_type": "code",
   "execution_count": 23,
   "metadata": {},
   "outputs": [],
   "source": [
    "def identify_outliers(s):\n",
    "    '''\n",
    "    Given a series and a cutoff value, k, returns the upper outliers for the\n",
    "    series.\n",
    "\n",
    "    The values returned will be either 0 (if the point is not an outlier), or \n",
    "    a null value which will be used to drop later.\n",
    "    '''\n",
    "    q1, q3 = s.quantile([.25, .75])\n",
    "    iqr = q3 - q1\n",
    "    upper_bound = q3 + 3 * iqr\n",
    "    lower_bound = q1 - 3*iqr\n",
    "    return s.apply(lambda x: x if (x<upper_bound)&(x>lower_bound) else np.NaN)\n",
    "\n"
   ]
  },
  {
   "cell_type": "code",
   "execution_count": 24,
   "metadata": {},
   "outputs": [],
   "source": [
    "def drop_outliers(df):\n",
    "    for col in (df.select_dtypes(include=['float64'])\n",
    "                .drop(columns = ['latitude', 'longitude'])\n",
    "                .columns):\n",
    "        df[col] = identify_outliers(df[col])\n",
    "    df = df.dropna()\n",
    "    return df"
   ]
  },
  {
   "cell_type": "code",
   "execution_count": 25,
   "metadata": {
    "scrolled": true
   },
   "outputs": [
    {
     "data": {
      "text/plain": [
       "bathroomcnt     0\n",
       "bedroomcnt      0\n",
       "house_size      0\n",
       "latitude        0\n",
       "longitude       0\n",
       "lotsize         0\n",
       "regionidcity    0\n",
       "regionidzip     0\n",
       "actual_value    0\n",
       "logerror        0\n",
       "age             0\n",
       "tax_rate        0\n",
       "estimate        0\n",
       "LA              0\n",
       "Orange          0\n",
       "Ventura         0\n",
       "dtype: int64"
      ]
     },
     "execution_count": 25,
     "metadata": {},
     "output_type": "execute_result"
    }
   ],
   "source": [
    "df =drop_outliers(df)\n",
    "df.isna().sum()"
   ]
  },
  {
   "cell_type": "code",
   "execution_count": 26,
   "metadata": {},
   "outputs": [
    {
     "data": {
      "text/plain": [
       "(41741, 16)"
      ]
     },
     "execution_count": 26,
     "metadata": {},
     "output_type": "execute_result"
    }
   ],
   "source": [
    "df.shape"
   ]
  },
  {
   "cell_type": "code",
   "execution_count": 27,
   "metadata": {
    "scrolled": true
   },
   "outputs": [
    {
     "data": {
      "text/plain": [
       "<matplotlib.axes._subplots.AxesSubplot at 0x114f19e90>"
      ]
     },
     "execution_count": 27,
     "metadata": {},
     "output_type": "execute_result"
    }
   ],
   "source": [
    "df.estimate.plot.hist()"
   ]
  },
  {
   "cell_type": "markdown",
   "metadata": {},
   "source": [
    "## Other\n",
    "\n",
    "- Be sure to not forget about the common tasks for this phase of the pipeline (e.g. summarize data, plotting distributions of individual variables).\n",
    "\n",
    "- Documentation: markdown, docstrings in functions, and comments in code."
   ]
  },
  {
   "cell_type": "code",
   "execution_count": 28,
   "metadata": {},
   "outputs": [],
   "source": [
    "def prepare_data():\n",
    "    df = acquire_data()\n",
    "    df = drop_useless_columns(df, .3)\n",
    "    df = drop_duplicated_observation(df)\n",
    "    df = drop_ineffecitve_columns(df)\n",
    "    df = drop_null(df)\n",
    "    df = create_new_features(df)\n",
    "    df = creat_dummy_var(df)\n",
    "    df = regassign_dtypes(df)\n",
    "    df = drop_outliers(df)\n",
    "    return df\n",
    "    \n",
    "    "
   ]
  },
  {
   "cell_type": "code",
   "execution_count": 29,
   "metadata": {},
   "outputs": [
    {
     "data": {
      "text/plain": [
       "(41741, 16)"
      ]
     },
     "execution_count": 29,
     "metadata": {},
     "output_type": "execute_result"
    }
   ],
   "source": [
    "df = prepare_data()\n",
    "df.shape"
   ]
  },
  {
   "cell_type": "code",
   "execution_count": null,
   "metadata": {},
   "outputs": [],
   "source": []
  }
 ],
 "metadata": {
  "kernelspec": {
   "display_name": "Python 3",
   "language": "python",
   "name": "python3"
  },
  "language_info": {
   "codemirror_mode": {
    "name": "ipython",
    "version": 3
   },
   "file_extension": ".py",
   "mimetype": "text/x-python",
   "name": "python",
   "nbconvert_exporter": "python",
   "pygments_lexer": "ipython3",
   "version": "3.7.4"
  }
 },
 "nbformat": 4,
 "nbformat_minor": 2
}
