{
 "cells": [
  {
   "cell_type": "markdown",
   "metadata": {},
   "source": [
    "3 models: \n",
    "    1. cluster with logerr\n",
    "    2. cluster with estimate\n",
    "    3. cluster with the independetn variable(square footage)\n",
    "    4. cluster with one more independent variable(long lati)"
   ]
  },
  {
   "cell_type": "code",
   "execution_count": 5,
   "metadata": {},
   "outputs": [],
   "source": [
    "import pandas as pd \n",
    "import numpy as np\n",
    "import matplotlib.pyplot as plt\n",
    "import seaborn as sns\n",
    "from sklearn.cluster import KMeans\n",
    "from sklearn.metrics import mean_squared_error\n",
    "from sklearn.linear_model import LinearRegression\n",
    "from sklearn.feature_selection import RFE\n",
    "\n",
    "from preprocessing import split_data\n",
    "from acquire import acquire_data\n",
    "from prepare import prepare_data\n",
    "\n",
    "import warnings\n",
    "warnings.filterwarnings('ignore')"
   ]
  },
  {
   "cell_type": "markdown",
   "metadata": {},
   "source": [
    "# 1. Build and evaluate different models"
   ]
  },
  {
   "cell_type": "code",
   "execution_count": 88,
   "metadata": {},
   "outputs": [],
   "source": [
    "df = prepare_data()\n",
    "train, validate, test = split_data(df)"
   ]
  },
  {
   "cell_type": "code",
   "execution_count": 89,
   "metadata": {},
   "outputs": [],
   "source": [
    "def build_model(train, feature_clustered, k):   \n",
    "    # create cluster object, train and fit\n",
    "    X = train[feature_clustered]\n",
    "    kmeans = KMeans(k)\n",
    "    kmeans.fit(X)\n",
    "\n",
    "    #encode cluster into different colomns\n",
    "    train['cluster'] = kmeans.predict(train[feature_clustered])\n",
    "    cluster_df = pd.get_dummies(train.cluster)\n",
    "    # concatenate the dataframe with the  one hot encoded cluster  to the original dataframe\n",
    "    train= pd.concat([train, cluster_df], axis =1)\n",
    "    # drop cluster columns\n",
    "    train = train.drop(columns = ['cluster'])\n",
    "\n",
    "    #\n",
    "    X =train.drop(columns = ['regionidcity', 'regionidzip', 'actual_value', 'logerror','estimated'])\\\n",
    "    .columns\n",
    "    Y =['estimated']\n",
    "\n",
    "    # Initialize the Linear Regression Object \n",
    "    lm = LinearRegression()\n",
    "\n",
    "    rfe = RFE(lm, 9)\n",
    "\n",
    "    # Transforming data using RFE\n",
    "    X_rfe = rfe.fit_transform(train[X],train[Y])  \n",
    "    mask = rfe.support_\n",
    "\n",
    "    # select the column names of the features that were selected and convert them to a list for future use. \n",
    "    rfe_features = train[X].columns[mask]\n",
    "\n",
    "    lm = LinearRegression()\n",
    "    lm.fit(X_rfe,train[Y])\n",
    "    train['prediction'] = lm.predict(X_rfe)\n",
    "\n",
    "    # select the column names of the features that were selected and convert them to a list for future use. \n",
    "    mask = rfe.support_\n",
    "    rfe_features = train[X].columns[mask]\n",
    "    rfe_features\n",
    "\n",
    "    RMSE_train = np.sqrt(mean_squared_error(train.estimated, train.prediction))\n",
    "    return RMSE_train, kmeans, lm, rfe_features"
   ]
  },
  {
   "cell_type": "code",
   "execution_count": 92,
   "metadata": {},
   "outputs": [],
   "source": [
    "def validate_model(validate,feature_clustered,kmeans,lm,rfe_features):   \n",
    "    validate['cluster'] = kmeans.predict(validate[feature_clustered])\n",
    "    cluster_df = pd.get_dummies(validate.cluster)\n",
    "    # concatenate the dataframe with the  one hot encoded cluster  to the original dataframe\n",
    "    validate= pd.concat([validate, cluster_df], axis =1)\n",
    "    # drop cluster column\n",
    "    validate = validate.drop(columns = ['cluster'])\n",
    "    validate['prediction'] = lm.predict(validate[rfe_features])\n",
    "\n",
    "    RMSE_vali = np.sqrt(mean_squared_error(validate.estimated, validate.prediction))\n",
    "    return RMSE_vali"
   ]
  },
  {
   "cell_type": "code",
   "execution_count": 101,
   "metadata": {},
   "outputs": [],
   "source": [
    "def test_model(test,feature_clustered,kmeans,lm,rfe_features):   \n",
    "    test['cluster'] = kmeans.predict(test[feature_clustered])\n",
    "    cluster_df = pd.get_dummies(test.cluster)\n",
    "    # concatenate the dataframe with the  one hot encoded cluster  to the original dataframe\n",
    "    test= pd.concat([test, cluster_df], axis =1)\n",
    "    # drop cluster column\n",
    "    test = test.drop(columns = ['cluster'])\n",
    "    test['prediction'] = lm.predict(test[rfe_features])\n",
    "\n",
    "    RMSE_test = np.sqrt(mean_squared_error(test.estimated, test.prediction))\n",
    "    return RMSE_test"
   ]
  },
  {
   "cell_type": "markdown",
   "metadata": {},
   "source": [
    "### 1.1 Clustering logerror and build linear model"
   ]
  },
  {
   "cell_type": "code",
   "execution_count": 97,
   "metadata": {},
   "outputs": [
    {
     "name": "stdout",
     "output_type": "stream",
     "text": [
      "RMSE_train = 263075.56\n",
      "RMSE_validate = 259176.27\n"
     ]
    }
   ],
   "source": [
    "feature_clustered = ['logerror'] \n",
    "k =8\n",
    "RMSE_train, kmeans, lm, rfe_features = build_model(train.copy(), feature_clustered, k)\n",
    "print(f'RMSE_train = {RMSE_train:.2f}')\n",
    "\n",
    "RMSE_vali = validate_model(validate.copy(),feature_clustered,kmeans,lm,rfe_features)\n",
    "print(f'RMSE_validate = {RMSE_vali:.2f}')"
   ]
  },
  {
   "cell_type": "markdown",
   "metadata": {},
   "source": [
    "### 1.2 Clustering estimate and build linear model"
   ]
  },
  {
   "cell_type": "code",
   "execution_count": 98,
   "metadata": {},
   "outputs": [
    {
     "name": "stdout",
     "output_type": "stream",
     "text": [
      "RMSE_train = 69268.63\n",
      "RMSE_validate = 70070.64\n"
     ]
    }
   ],
   "source": [
    "feature_clustered = ['estimated'] \n",
    "k =6\n",
    "RMSE_train, kmeans, lm, rfe_features = build_model(train.copy(), feature_clustered, k)\n",
    "print(f'RMSE_train = {RMSE_train:.2f}')\n",
    "\n",
    "RMSE_vali = validate_model(validate.copy(),feature_clustered,kmeans,lm,rfe_features)\n",
    "print(f'RMSE_validate = {RMSE_vali:.2f}')"
   ]
  },
  {
   "cell_type": "markdown",
   "metadata": {},
   "source": [
    "### 1.3 Clustering house_size and build linear model"
   ]
  },
  {
   "cell_type": "code",
   "execution_count": 99,
   "metadata": {},
   "outputs": [
    {
     "name": "stdout",
     "output_type": "stream",
     "text": [
      "RMSE_train = 254765.77\n",
      "RMSE_validate = 251387.29\n"
     ]
    }
   ],
   "source": [
    "feature_clustered = ['house_size'] \n",
    "k =4\n",
    "RMSE_train, kmeans, lm, rfe_features = build_model(train.copy(), feature_clustered, k)\n",
    "print(f'RMSE_train = {RMSE_train:.2f}')\n",
    "\n",
    "RMSE_vali = validate_model(validate.copy(),feature_clustered,kmeans,lm,rfe_features)\n",
    "print(f'RMSE_validate = {RMSE_vali:.2f}')"
   ]
  },
  {
   "cell_type": "markdown",
   "metadata": {},
   "source": [
    "### 1.4 Clustering longitude and latitude and build linear model"
   ]
  },
  {
   "cell_type": "code",
   "execution_count": 100,
   "metadata": {},
   "outputs": [
    {
     "name": "stdout",
     "output_type": "stream",
     "text": [
      "RMSE_train = 263967.58\n",
      "RMSE_validate = 259553.44\n"
     ]
    }
   ],
   "source": [
    "feature_clustered = ['latitude','longitude'] \n",
    "k =6\n",
    "RMSE_train, kmeans, lm, rfe_features = build_model(train.copy(), feature_clustered, k)\n",
    "print(f'RMSE_train = {RMSE_train:.2f}')\n",
    "\n",
    "RMSE_vali = validate_model(validate.copy(),feature_clustered,kmeans,lm,rfe_features)\n",
    "print(f'RMSE_validate = {RMSE_vali:.2f}')"
   ]
  },
  {
   "cell_type": "markdown",
   "metadata": {},
   "source": [
    "***From above we could see the best performance model is by cluserimg estimated value***"
   ]
  },
  {
   "cell_type": "markdown",
   "metadata": {},
   "source": [
    "# 2. Apply best performace model to the data frame"
   ]
  },
  {
   "cell_type": "code",
   "execution_count": 103,
   "metadata": {},
   "outputs": [
    {
     "name": "stdout",
     "output_type": "stream",
     "text": [
      "RMSE_train = 69266.30\n",
      "RMSE_test = 67739.17\n"
     ]
    }
   ],
   "source": [
    "test_model(test,feature_clustered,kmeans,lm,rfe_features)\n",
    "feature_clustered = ['estimated'] \n",
    "k =6\n",
    "RMSE_train, kmeans, lm, rfe_features = build_model(train.copy(), feature_clustered, k)\n",
    "print(f'RMSE_train = {RMSE_train:.2f}')\n",
    "\n",
    "RMSE_test = test_model(test,feature_clustered,kmeans,lm,rfe_features)\n",
    "print(f'RMSE_test = {RMSE_test:.2f}')"
   ]
  },
  {
   "cell_type": "code",
   "execution_count": null,
   "metadata": {},
   "outputs": [],
   "source": []
  },
  {
   "cell_type": "code",
   "execution_count": null,
   "metadata": {},
   "outputs": [],
   "source": []
  },
  {
   "cell_type": "code",
   "execution_count": null,
   "metadata": {},
   "outputs": [],
   "source": []
  }
 ],
 "metadata": {
  "kernelspec": {
   "display_name": "Python 3",
   "language": "python",
   "name": "python3"
  },
  "language_info": {
   "codemirror_mode": {
    "name": "ipython",
    "version": 3
   },
   "file_extension": ".py",
   "mimetype": "text/x-python",
   "name": "python",
   "nbconvert_exporter": "python",
   "pygments_lexer": "ipython3",
   "version": "3.7.4"
  }
 },
 "nbformat": 4,
 "nbformat_minor": 2
}
