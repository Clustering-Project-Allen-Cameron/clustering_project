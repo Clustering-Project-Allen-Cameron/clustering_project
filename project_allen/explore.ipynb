{
 "cells": [
  {
   "cell_type": "markdown",
   "metadata": {},
   "source": [
    "# Exploration\n",
    "You will explore as you would in other projects, and you will add these new ways using clustering."
   ]
  },
  {
   "cell_type": "code",
   "execution_count": 1,
   "metadata": {},
   "outputs": [],
   "source": [
    "import pandas as pd \n",
    "import numpy as np\n",
    "import matplotlib.pyplot as plt\n",
    "import seaborn as sns\n",
    "from sklearn.cluster import KMeans\n",
    "from preprocessing import split_data\n",
    "from acquire import acquire_data\n",
    "from prepare import prepare_data\n",
    "import warnings\n",
    "warnings.filterwarnings('ignore')"
   ]
  },
  {
   "cell_type": "code",
   "execution_count": 2,
   "metadata": {
    "scrolled": true
   },
   "outputs": [
    {
     "data": {
      "text/html": [
       "<div>\n",
       "<style scoped>\n",
       "    .dataframe tbody tr th:only-of-type {\n",
       "        vertical-align: middle;\n",
       "    }\n",
       "\n",
       "    .dataframe tbody tr th {\n",
       "        vertical-align: top;\n",
       "    }\n",
       "\n",
       "    .dataframe thead th {\n",
       "        text-align: right;\n",
       "    }\n",
       "</style>\n",
       "<table border=\"1\" class=\"dataframe\">\n",
       "  <thead>\n",
       "    <tr style=\"text-align: right;\">\n",
       "      <th></th>\n",
       "      <th>bathroomcnt</th>\n",
       "      <th>bedroomcnt</th>\n",
       "      <th>house_size</th>\n",
       "      <th>latitude</th>\n",
       "      <th>longitude</th>\n",
       "      <th>lotsize</th>\n",
       "      <th>regionidcity</th>\n",
       "      <th>regionidzip</th>\n",
       "      <th>actual_value</th>\n",
       "      <th>logerror</th>\n",
       "      <th>age</th>\n",
       "      <th>tax_rate</th>\n",
       "      <th>estimated</th>\n",
       "      <th>LA</th>\n",
       "      <th>Orange</th>\n",
       "      <th>Ventura</th>\n",
       "    </tr>\n",
       "  </thead>\n",
       "  <tbody>\n",
       "    <tr>\n",
       "      <td>39903</td>\n",
       "      <td>2.0</td>\n",
       "      <td>4.0</td>\n",
       "      <td>1498.0</td>\n",
       "      <td>33991186.0</td>\n",
       "      <td>-117827282.0</td>\n",
       "      <td>8032.0</td>\n",
       "      <td>24384</td>\n",
       "      <td>96505</td>\n",
       "      <td>312264.0</td>\n",
       "      <td>-0.023107</td>\n",
       "      <td>46.0</td>\n",
       "      <td>1.218741</td>\n",
       "      <td>296084.211495</td>\n",
       "      <td>1</td>\n",
       "      <td>0</td>\n",
       "      <td>0</td>\n",
       "    </tr>\n",
       "    <tr>\n",
       "      <td>25501</td>\n",
       "      <td>2.5</td>\n",
       "      <td>3.0</td>\n",
       "      <td>1729.0</td>\n",
       "      <td>33584421.0</td>\n",
       "      <td>-117644775.0</td>\n",
       "      <td>5400.0</td>\n",
       "      <td>12773</td>\n",
       "      <td>96996</td>\n",
       "      <td>479202.0</td>\n",
       "      <td>0.017473</td>\n",
       "      <td>25.0</td>\n",
       "      <td>1.007404</td>\n",
       "      <td>498874.336287</td>\n",
       "      <td>0</td>\n",
       "      <td>1</td>\n",
       "      <td>0</td>\n",
       "    </tr>\n",
       "    <tr>\n",
       "      <td>22151</td>\n",
       "      <td>3.0</td>\n",
       "      <td>4.0</td>\n",
       "      <td>2824.0</td>\n",
       "      <td>34261050.0</td>\n",
       "      <td>-118567605.0</td>\n",
       "      <td>17507.0</td>\n",
       "      <td>12447</td>\n",
       "      <td>96346</td>\n",
       "      <td>552275.0</td>\n",
       "      <td>0.028148</td>\n",
       "      <td>49.0</td>\n",
       "      <td>1.253571</td>\n",
       "      <td>589255.063927</td>\n",
       "      <td>1</td>\n",
       "      <td>0</td>\n",
       "      <td>0</td>\n",
       "    </tr>\n",
       "    <tr>\n",
       "      <td>21858</td>\n",
       "      <td>2.0</td>\n",
       "      <td>4.0</td>\n",
       "      <td>1464.0</td>\n",
       "      <td>34268048.0</td>\n",
       "      <td>-118679847.0</td>\n",
       "      <td>5400.0</td>\n",
       "      <td>27110</td>\n",
       "      <td>97116</td>\n",
       "      <td>190998.0</td>\n",
       "      <td>0.030073</td>\n",
       "      <td>46.0</td>\n",
       "      <td>1.267217</td>\n",
       "      <td>204692.353491</td>\n",
       "      <td>0</td>\n",
       "      <td>0</td>\n",
       "      <td>1</td>\n",
       "    </tr>\n",
       "    <tr>\n",
       "      <td>8498</td>\n",
       "      <td>2.0</td>\n",
       "      <td>3.0</td>\n",
       "      <td>1648.0</td>\n",
       "      <td>33719549.0</td>\n",
       "      <td>-117816405.0</td>\n",
       "      <td>6000.0</td>\n",
       "      <td>27491</td>\n",
       "      <td>97016</td>\n",
       "      <td>273462.0</td>\n",
       "      <td>-0.003746</td>\n",
       "      <td>49.0</td>\n",
       "      <td>1.239426</td>\n",
       "      <td>271113.476791</td>\n",
       "      <td>0</td>\n",
       "      <td>1</td>\n",
       "      <td>0</td>\n",
       "    </tr>\n",
       "  </tbody>\n",
       "</table>\n",
       "</div>"
      ],
      "text/plain": [
       "       bathroomcnt  bedroomcnt  house_size    latitude    longitude  lotsize  \\\n",
       "39903          2.0         4.0      1498.0  33991186.0 -117827282.0   8032.0   \n",
       "25501          2.5         3.0      1729.0  33584421.0 -117644775.0   5400.0   \n",
       "22151          3.0         4.0      2824.0  34261050.0 -118567605.0  17507.0   \n",
       "21858          2.0         4.0      1464.0  34268048.0 -118679847.0   5400.0   \n",
       "8498           2.0         3.0      1648.0  33719549.0 -117816405.0   6000.0   \n",
       "\n",
       "      regionidcity regionidzip  actual_value  logerror   age  tax_rate  \\\n",
       "39903        24384       96505      312264.0 -0.023107  46.0  1.218741   \n",
       "25501        12773       96996      479202.0  0.017473  25.0  1.007404   \n",
       "22151        12447       96346      552275.0  0.028148  49.0  1.253571   \n",
       "21858        27110       97116      190998.0  0.030073  46.0  1.267217   \n",
       "8498         27491       97016      273462.0 -0.003746  49.0  1.239426   \n",
       "\n",
       "           estimated  LA  Orange  Ventura  \n",
       "39903  296084.211495   1       0        0  \n",
       "25501  498874.336287   0       1        0  \n",
       "22151  589255.063927   1       0        0  \n",
       "21858  204692.353491   0       0        1  \n",
       "8498   271113.476791   0       1        0  "
      ]
     },
     "execution_count": 2,
     "metadata": {},
     "output_type": "execute_result"
    }
   ],
   "source": [
    "df = prepare_data()\n",
    "train, validate, test = split_data(df)\n",
    "train.head()"
   ]
  },
  {
   "cell_type": "markdown",
   "metadata": {},
   "source": [
    "## Cluster the Target Variable\n",
    "Why? By reducing the noise of the continuous variable, we can possibly see trends easier by turning this continuous variable into clusters and then comparing those clusters with respect to other variables through visualizations or tests.\n",
    "\n",
    "Perform clustering with logerror as the only feature used in the clustering algorithm. Decide on a number of clusters to use, and store the cluster predictions back onto your data frame as cluster_target. Look at the centroids that were produced in this process. What do they tell you?\n",
    "\n",
    "Use the produced clusters to help you explore through visualization how logerror relates to other variables. (A common way to do this is to use color to indicate the cluster id, and the other variables can be your x-axis and y-axis. (hint: look at your swarmplot function))."
   ]
  },
  {
   "cell_type": "code",
   "execution_count": 3,
   "metadata": {
    "scrolled": true
   },
   "outputs": [
    {
     "data": {
      "text/plain": [
       "<matplotlib.axes._subplots.AxesSubplot at 0x1a1f699290>"
      ]
     },
     "execution_count": 3,
     "metadata": {},
     "output_type": "execute_result"
    },
    {
     "data": {
      "image/png": "[encoded data removed]",
      "text/plain": [
       "<Figure size 432x288 with 1 Axes>"
      ]
     },
     "metadata": {
      "needs_background": "light"
     },
     "output_type": "display_data"
    }
   ],
   "source": [
    "train.logerror.plot.hist()"
   ]
  },
  {
   "cell_type": "code",
   "execution_count": 4,
   "metadata": {},
   "outputs": [
    {
     "data": {
      "text/plain": [
       "<matplotlib.axes._subplots.AxesSubplot at 0x1a1c7066d0>"
      ]
     },
     "execution_count": 4,
     "metadata": {},
     "output_type": "execute_result"
    },
    {
     "data": {
      "image/png": "[encoded data removed]",
      "text/plain": [
       "<Figure size 432x288 with 1 Axes>"
      ]
     },
     "metadata": {
      "needs_background": "light"
     },
     "output_type": "display_data"
    }
   ],
   "source": [
    "train.estimated.plot.hist()"
   ]
  },
  {
   "cell_type": "code",
   "execution_count": 5,
   "metadata": {
    "scrolled": false
   },
   "outputs": [
    {
     "data": {
      "image/png": "[encoded data removed]",
      "text/plain": [
       "<Figure size 936x504 with 1 Axes>"
      ]
     },
     "metadata": {
      "needs_background": "light"
     },
     "output_type": "display_data"
    }
   ],
   "source": [
    "X = train[['estimated']]\n",
    "def get_inertia(k):\n",
    "    kmeans = KMeans(k)\n",
    "    kmeans.fit(X)\n",
    "    return kmeans.inertia_\n",
    "\n",
    "plt.figure(figsize=(13, 7))\n",
    "pd.Series({k: get_inertia(k) for k in range(2, 13)}).plot()\n",
    "plt.xlabel('k')\n",
    "plt.ylabel('inertia')\n",
    "plt.xticks(range(2, 13))\n",
    "plt.grid()"
   ]
  },
  {
   "cell_type": "markdown",
   "metadata": {},
   "source": [
    "From above k = 4 looks like a good elbow point"
   ]
  },
  {
   "cell_type": "code",
   "execution_count": 6,
   "metadata": {
    "scrolled": false
   },
   "outputs": [
    {
     "data": {
      "text/plain": [
       "<matplotlib.axes._subplots.AxesSubplot at 0x1a1d4f3f90>"
      ]
     },
     "execution_count": 6,
     "metadata": {},
     "output_type": "execute_result"
    },
    {
     "data": {
      "image/png": "[encoded data removed]",
      "text/plain": [
       "<Figure size 432x288 with 1 Axes>"
      ]
     },
     "metadata": {
      "needs_background": "light"
     },
     "output_type": "display_data"
    }
   ],
   "source": [
    "k =4\n",
    "X = train[['estimated']]\n",
    "kmeans = KMeans(k)\n",
    "kmeans.fit(X)\n",
    "center = pd.DataFrame(kmeans.cluster_centers_, columns=X.columns)\n",
    "sns.barplot(x = center.index, y = center.estimated)"
   ]
  },
  {
   "cell_type": "markdown",
   "metadata": {},
   "source": [
    "Assign cluster to the train data set, and create dummy variable"
   ]
  },
  {
   "cell_type": "code",
   "execution_count": 7,
   "metadata": {
    "scrolled": true
   },
   "outputs": [
    {
     "data": {
      "text/html": [
       "<div>\n",
       "<style scoped>\n",
       "    .dataframe tbody tr th:only-of-type {\n",
       "        vertical-align: middle;\n",
       "    }\n",
       "\n",
       "    .dataframe tbody tr th {\n",
       "        vertical-align: top;\n",
       "    }\n",
       "\n",
       "    .dataframe thead th {\n",
       "        text-align: right;\n",
       "    }\n",
       "</style>\n",
       "<table border=\"1\" class=\"dataframe\">\n",
       "  <thead>\n",
       "    <tr style=\"text-align: right;\">\n",
       "      <th></th>\n",
       "      <th>bathroomcnt</th>\n",
       "      <th>bedroomcnt</th>\n",
       "      <th>house_size</th>\n",
       "      <th>latitude</th>\n",
       "      <th>longitude</th>\n",
       "      <th>lotsize</th>\n",
       "      <th>regionidcity</th>\n",
       "      <th>regionidzip</th>\n",
       "      <th>actual_value</th>\n",
       "      <th>logerror</th>\n",
       "      <th>...</th>\n",
       "      <th>tax_rate</th>\n",
       "      <th>estimated</th>\n",
       "      <th>LA</th>\n",
       "      <th>Orange</th>\n",
       "      <th>Ventura</th>\n",
       "      <th>cluster</th>\n",
       "      <th>cluster 0</th>\n",
       "      <th>cluster 1</th>\n",
       "      <th>cluster 2</th>\n",
       "      <th>cluster 3</th>\n",
       "    </tr>\n",
       "  </thead>\n",
       "  <tbody>\n",
       "    <tr>\n",
       "      <td>39903</td>\n",
       "      <td>2.0</td>\n",
       "      <td>4.0</td>\n",
       "      <td>1498.0</td>\n",
       "      <td>33991186.0</td>\n",
       "      <td>-117827282.0</td>\n",
       "      <td>8032.0</td>\n",
       "      <td>24384</td>\n",
       "      <td>96505</td>\n",
       "      <td>312264.0</td>\n",
       "      <td>-0.023107</td>\n",
       "      <td>...</td>\n",
       "      <td>1.218741</td>\n",
       "      <td>296084.211495</td>\n",
       "      <td>1</td>\n",
       "      <td>0</td>\n",
       "      <td>0</td>\n",
       "      <td>cluster 1</td>\n",
       "      <td>0</td>\n",
       "      <td>1</td>\n",
       "      <td>0</td>\n",
       "      <td>0</td>\n",
       "    </tr>\n",
       "    <tr>\n",
       "      <td>25501</td>\n",
       "      <td>2.5</td>\n",
       "      <td>3.0</td>\n",
       "      <td>1729.0</td>\n",
       "      <td>33584421.0</td>\n",
       "      <td>-117644775.0</td>\n",
       "      <td>5400.0</td>\n",
       "      <td>12773</td>\n",
       "      <td>96996</td>\n",
       "      <td>479202.0</td>\n",
       "      <td>0.017473</td>\n",
       "      <td>...</td>\n",
       "      <td>1.007404</td>\n",
       "      <td>498874.336287</td>\n",
       "      <td>0</td>\n",
       "      <td>1</td>\n",
       "      <td>0</td>\n",
       "      <td>cluster 3</td>\n",
       "      <td>0</td>\n",
       "      <td>0</td>\n",
       "      <td>0</td>\n",
       "      <td>1</td>\n",
       "    </tr>\n",
       "    <tr>\n",
       "      <td>22151</td>\n",
       "      <td>3.0</td>\n",
       "      <td>4.0</td>\n",
       "      <td>2824.0</td>\n",
       "      <td>34261050.0</td>\n",
       "      <td>-118567605.0</td>\n",
       "      <td>17507.0</td>\n",
       "      <td>12447</td>\n",
       "      <td>96346</td>\n",
       "      <td>552275.0</td>\n",
       "      <td>0.028148</td>\n",
       "      <td>...</td>\n",
       "      <td>1.253571</td>\n",
       "      <td>589255.063927</td>\n",
       "      <td>1</td>\n",
       "      <td>0</td>\n",
       "      <td>0</td>\n",
       "      <td>cluster 3</td>\n",
       "      <td>0</td>\n",
       "      <td>0</td>\n",
       "      <td>0</td>\n",
       "      <td>1</td>\n",
       "    </tr>\n",
       "    <tr>\n",
       "      <td>21858</td>\n",
       "      <td>2.0</td>\n",
       "      <td>4.0</td>\n",
       "      <td>1464.0</td>\n",
       "      <td>34268048.0</td>\n",
       "      <td>-118679847.0</td>\n",
       "      <td>5400.0</td>\n",
       "      <td>27110</td>\n",
       "      <td>97116</td>\n",
       "      <td>190998.0</td>\n",
       "      <td>0.030073</td>\n",
       "      <td>...</td>\n",
       "      <td>1.267217</td>\n",
       "      <td>204692.353491</td>\n",
       "      <td>0</td>\n",
       "      <td>0</td>\n",
       "      <td>1</td>\n",
       "      <td>cluster 1</td>\n",
       "      <td>0</td>\n",
       "      <td>1</td>\n",
       "      <td>0</td>\n",
       "      <td>0</td>\n",
       "    </tr>\n",
       "    <tr>\n",
       "      <td>8498</td>\n",
       "      <td>2.0</td>\n",
       "      <td>3.0</td>\n",
       "      <td>1648.0</td>\n",
       "      <td>33719549.0</td>\n",
       "      <td>-117816405.0</td>\n",
       "      <td>6000.0</td>\n",
       "      <td>27491</td>\n",
       "      <td>97016</td>\n",
       "      <td>273462.0</td>\n",
       "      <td>-0.003746</td>\n",
       "      <td>...</td>\n",
       "      <td>1.239426</td>\n",
       "      <td>271113.476791</td>\n",
       "      <td>0</td>\n",
       "      <td>1</td>\n",
       "      <td>0</td>\n",
       "      <td>cluster 1</td>\n",
       "      <td>0</td>\n",
       "      <td>1</td>\n",
       "      <td>0</td>\n",
       "      <td>0</td>\n",
       "    </tr>\n",
       "  </tbody>\n",
       "</table>\n",
       "<p>5 rows × 21 columns</p>\n",
       "</div>"
      ],
      "text/plain": [
       "       bathroomcnt  bedroomcnt  house_size    latitude    longitude  lotsize  \\\n",
       "39903          2.0         4.0      1498.0  33991186.0 -117827282.0   8032.0   \n",
       "25501          2.5         3.0      1729.0  33584421.0 -117644775.0   5400.0   \n",
       "22151          3.0         4.0      2824.0  34261050.0 -118567605.0  17507.0   \n",
       "21858          2.0         4.0      1464.0  34268048.0 -118679847.0   5400.0   \n",
       "8498           2.0         3.0      1648.0  33719549.0 -117816405.0   6000.0   \n",
       "\n",
       "      regionidcity regionidzip  actual_value  logerror  ...  tax_rate  \\\n",
       "39903        24384       96505      312264.0 -0.023107  ...  1.218741   \n",
       "25501        12773       96996      479202.0  0.017473  ...  1.007404   \n",
       "22151        12447       96346      552275.0  0.028148  ...  1.253571   \n",
       "21858        27110       97116      190998.0  0.030073  ...  1.267217   \n",
       "8498         27491       97016      273462.0 -0.003746  ...  1.239426   \n",
       "\n",
       "           estimated  LA  Orange  Ventura    cluster cluster 0  cluster 1  \\\n",
       "39903  296084.211495   1       0        0  cluster 1         0          1   \n",
       "25501  498874.336287   0       1        0  cluster 3         0          0   \n",
       "22151  589255.063927   1       0        0  cluster 3         0          0   \n",
       "21858  204692.353491   0       0        1  cluster 1         0          1   \n",
       "8498   271113.476791   0       1        0  cluster 1         0          1   \n",
       "\n",
       "       cluster 2  cluster 3  \n",
       "39903          0          0  \n",
       "25501          0          1  \n",
       "22151          0          1  \n",
       "21858          0          0  \n",
       "8498           0          0  \n",
       "\n",
       "[5 rows x 21 columns]"
      ]
     },
     "execution_count": 7,
     "metadata": {},
     "output_type": "execute_result"
    }
   ],
   "source": [
    "train['cluster'] = kmeans.predict(train[['estimated']])\n",
    "train.cluster = 'cluster ' + train.cluster.astype(str)\n",
    "cluster_df = pd.get_dummies(train.cluster)\n",
    "# concatenate the dataframe with the 4 cluster columns to the original dataframe\n",
    "train= pd.concat([train, cluster_df], axis =1)\n",
    "# drop \n",
    "#train = train.drop(columns = ['cluster'])\n",
    "train.head()"
   ]
  },
  {
   "cell_type": "code",
   "execution_count": 8,
   "metadata": {
    "scrolled": false
   },
   "outputs": [
    {
     "data": {
      "text/plain": [
       "<matplotlib.axes._subplots.AxesSubplot at 0x1a1d3f4210>"
      ]
     },
     "execution_count": 8,
     "metadata": {},
     "output_type": "execute_result"
    },
    {
     "data": {
      "image/png": "[encoded data removed]",
      "text/plain": [
       "<Figure size 432x288 with 1 Axes>"
      ]
     },
     "metadata": {
      "needs_background": "light"
     },
     "output_type": "display_data"
    }
   ],
   "source": [
    "s = train.groupby('cluster').logerror.mean()\n",
    "sns.barplot(x = s.index, y = s)"
   ]
  },
  {
   "cell_type": "code",
   "execution_count": null,
   "metadata": {},
   "outputs": [],
   "source": []
  },
  {
   "cell_type": "markdown",
   "metadata": {},
   "source": [
    " ## Cluster Independent Variables\n",
    "You should also perform some clustering based on a number of independent variables. Create and evaluate several clustering models based on subsets of the independent variables. Here are some ideas:\n",
    "\n",
    "Location, that is, latitude and longitude\n",
    "Size (finished square feet)\n",
    "Location and size\n",
    "Be sure to use these new clusters in exploring your data, and interpret what these clusters tell you.\n",
    "\n",
    "Test the Significance of and Visualize Clusters\n",
    "Use statistical testing methods as well as visualization to determine whether the clusters you have created are significant in terms of their relationship to logerror and/or the logerror clusters you created."
   ]
  },
  {
   "cell_type": "markdown",
   "metadata": {},
   "source": [
    "### Cluster Location"
   ]
  },
  {
   "cell_type": "code",
   "execution_count": 9,
   "metadata": {},
   "outputs": [
    {
     "data": {
      "image/png": "[encoded data removed]",
      "text/plain": [
       "<Figure size 936x504 with 1 Axes>"
      ]
     },
     "metadata": {
      "needs_background": "light"
     },
     "output_type": "display_data"
    }
   ],
   "source": [
    "X = train[['latitude','longitude']]\n",
    "def get_inertia(k):\n",
    "    kmeans = KMeans(k)\n",
    "    kmeans.fit(X)\n",
    "    return kmeans.inertia_\n",
    "\n",
    "plt.figure(figsize=(13, 7))\n",
    "pd.Series({k: get_inertia(k) for k in range(2, 13)}).plot()\n",
    "plt.xlabel('k')\n",
    "plt.ylabel('inertia')\n",
    "plt.xticks(range(2, 13))\n",
    "plt.grid()"
   ]
  },
  {
   "cell_type": "markdown",
   "metadata": {},
   "source": [
    "K=6 looks like the elbow point"
   ]
  },
  {
   "cell_type": "code",
   "execution_count": 10,
   "metadata": {},
   "outputs": [
    {
     "data": {
      "text/plain": [
       "<matplotlib.legend.Legend at 0x1a1d3e1e90>"
      ]
     },
     "execution_count": 10,
     "metadata": {},
     "output_type": "execute_result"
    },
    {
     "data": {
      "image/png": "[encoded data removed]",
      "text/plain": [
       "<Figure size 432x288 with 1 Axes>"
      ]
     },
     "metadata": {
      "needs_background": "light"
     },
     "output_type": "display_data"
    }
   ],
   "source": [
    "k =6\n",
    "X = train[['latitude','longitude']]\n",
    "kmeans = KMeans(k)\n",
    "kmeans.fit(X)\n",
    "train['cluster'] = kmeans.predict(train[['latitude','longitude']])\n",
    "train.cluster = 'cluster ' + train.cluster.astype(str)\n",
    "center = pd.DataFrame(kmeans.cluster_centers_,  columns=X.columns)\n",
    "center\n",
    "plt.scatter(x = center.longitude, y = center.latitude, \n",
    "            alpha=.15, s=5000, c='black')\n",
    "\n",
    "for cluster, subset in train.groupby('cluster'):\n",
    "    plt.scatter(subset.longitude, subset.latitude, label=cluster)\n",
    "plt.legend()"
   ]
  },
  {
   "cell_type": "markdown",
   "metadata": {},
   "source": [
    "### Cluster size"
   ]
  },
  {
   "cell_type": "code",
   "execution_count": 11,
   "metadata": {},
   "outputs": [
    {
     "data": {
      "image/png": "[encoded data removed]",
      "text/plain": [
       "<Figure size 936x504 with 1 Axes>"
      ]
     },
     "metadata": {
      "needs_background": "light"
     },
     "output_type": "display_data"
    }
   ],
   "source": [
    "X = train[['house_size']]\n",
    "def get_inertia(k):\n",
    "    kmeans = KMeans(k)\n",
    "    kmeans.fit(X)\n",
    "    return kmeans.inertia_\n",
    "\n",
    "plt.figure(figsize=(13, 7))\n",
    "pd.Series({k: get_inertia(k) for k in range(2, 13)}).plot()\n",
    "plt.xlabel('k')\n",
    "plt.ylabel('inertia')\n",
    "plt.xticks(range(2, 13))\n",
    "plt.grid()"
   ]
  },
  {
   "cell_type": "markdown",
   "metadata": {},
   "source": [
    "Looks like K =4 is the elbow point"
   ]
  },
  {
   "cell_type": "code",
   "execution_count": null,
   "metadata": {},
   "outputs": [],
   "source": []
  }
 ],
 "metadata": {
  "kernelspec": {
   "display_name": "Python 3",
   "language": "python",
   "name": "python3"
  },
  "language_info": {
   "codemirror_mode": {
    "name": "ipython",
    "version": 3
   },
   "file_extension": ".py",
   "mimetype": "text/x-python",
   "name": "python",
   "nbconvert_exporter": "python",
   "pygments_lexer": "ipython3",
   "version": "3.7.4"
  }
 },
 "nbformat": 4,
 "nbformat_minor": 2
}
