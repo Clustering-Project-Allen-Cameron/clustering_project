{
 "cells": [
  {
   "cell_type": "code",
   "execution_count": 1,
   "metadata": {},
   "outputs": [],
   "source": [
    "import pandas as pd \n",
    "import numpy as np\n",
    "import matplotlib.pyplot as plt\n",
    "import seaborn as sns\n",
    "from sklearn.cluster import KMeans\n",
    "from sklearn.metrics import mean_squared_error\n",
    "from sklearn.linear_model import LinearRegression\n",
    "from sklearn.feature_selection import RFE\n",
    "\n",
    "from preprocessing import split_data\n",
    "from acquire import acquire_data\n",
    "from prepare import prepare_data\n",
    "\n",
    "import warnings\n",
    "warnings.filterwarnings('ignore')"
   ]
  },
  {
   "cell_type": "markdown",
   "metadata": {},
   "source": [
    "## Compare accuracy estimation vs baseline"
   ]
  },
  {
   "cell_type": "code",
   "execution_count": 2,
   "metadata": {
    "scrolled": true
   },
   "outputs": [
    {
     "data": {
      "text/html": [
       "<div>\n",
       "<style scoped>\n",
       "    .dataframe tbody tr th:only-of-type {\n",
       "        vertical-align: middle;\n",
       "    }\n",
       "\n",
       "    .dataframe tbody tr th {\n",
       "        vertical-align: top;\n",
       "    }\n",
       "\n",
       "    .dataframe thead th {\n",
       "        text-align: right;\n",
       "    }\n",
       "</style>\n",
       "<table border=\"1\" class=\"dataframe\">\n",
       "  <thead>\n",
       "    <tr style=\"text-align: right;\">\n",
       "      <th></th>\n",
       "      <th>bathroomcnt</th>\n",
       "      <th>bedroomcnt</th>\n",
       "      <th>house_size</th>\n",
       "      <th>latitude</th>\n",
       "      <th>longitude</th>\n",
       "      <th>lotsize</th>\n",
       "      <th>regionidcity</th>\n",
       "      <th>regionidzip</th>\n",
       "      <th>actual_value</th>\n",
       "      <th>logerror</th>\n",
       "      <th>age</th>\n",
       "      <th>tax_rate</th>\n",
       "      <th>estimated</th>\n",
       "      <th>LA</th>\n",
       "      <th>Orange</th>\n",
       "      <th>Ventura</th>\n",
       "    </tr>\n",
       "  </thead>\n",
       "  <tbody>\n",
       "    <tr>\n",
       "      <td>39903</td>\n",
       "      <td>2.0</td>\n",
       "      <td>4.0</td>\n",
       "      <td>1498.0</td>\n",
       "      <td>33991186.0</td>\n",
       "      <td>-117827282.0</td>\n",
       "      <td>8032.0</td>\n",
       "      <td>24384</td>\n",
       "      <td>96505</td>\n",
       "      <td>312264.0</td>\n",
       "      <td>-0.023107</td>\n",
       "      <td>46.0</td>\n",
       "      <td>1.218741</td>\n",
       "      <td>296084.211495</td>\n",
       "      <td>1</td>\n",
       "      <td>0</td>\n",
       "      <td>0</td>\n",
       "    </tr>\n",
       "    <tr>\n",
       "      <td>25501</td>\n",
       "      <td>2.5</td>\n",
       "      <td>3.0</td>\n",
       "      <td>1729.0</td>\n",
       "      <td>33584421.0</td>\n",
       "      <td>-117644775.0</td>\n",
       "      <td>5400.0</td>\n",
       "      <td>12773</td>\n",
       "      <td>96996</td>\n",
       "      <td>479202.0</td>\n",
       "      <td>0.017473</td>\n",
       "      <td>25.0</td>\n",
       "      <td>1.007404</td>\n",
       "      <td>498874.336287</td>\n",
       "      <td>0</td>\n",
       "      <td>1</td>\n",
       "      <td>0</td>\n",
       "    </tr>\n",
       "    <tr>\n",
       "      <td>22151</td>\n",
       "      <td>3.0</td>\n",
       "      <td>4.0</td>\n",
       "      <td>2824.0</td>\n",
       "      <td>34261050.0</td>\n",
       "      <td>-118567605.0</td>\n",
       "      <td>17507.0</td>\n",
       "      <td>12447</td>\n",
       "      <td>96346</td>\n",
       "      <td>552275.0</td>\n",
       "      <td>0.028148</td>\n",
       "      <td>49.0</td>\n",
       "      <td>1.253571</td>\n",
       "      <td>589255.063927</td>\n",
       "      <td>1</td>\n",
       "      <td>0</td>\n",
       "      <td>0</td>\n",
       "    </tr>\n",
       "    <tr>\n",
       "      <td>21858</td>\n",
       "      <td>2.0</td>\n",
       "      <td>4.0</td>\n",
       "      <td>1464.0</td>\n",
       "      <td>34268048.0</td>\n",
       "      <td>-118679847.0</td>\n",
       "      <td>5400.0</td>\n",
       "      <td>27110</td>\n",
       "      <td>97116</td>\n",
       "      <td>190998.0</td>\n",
       "      <td>0.030073</td>\n",
       "      <td>46.0</td>\n",
       "      <td>1.267217</td>\n",
       "      <td>204692.353491</td>\n",
       "      <td>0</td>\n",
       "      <td>0</td>\n",
       "      <td>1</td>\n",
       "    </tr>\n",
       "    <tr>\n",
       "      <td>8498</td>\n",
       "      <td>2.0</td>\n",
       "      <td>3.0</td>\n",
       "      <td>1648.0</td>\n",
       "      <td>33719549.0</td>\n",
       "      <td>-117816405.0</td>\n",
       "      <td>6000.0</td>\n",
       "      <td>27491</td>\n",
       "      <td>97016</td>\n",
       "      <td>273462.0</td>\n",
       "      <td>-0.003746</td>\n",
       "      <td>49.0</td>\n",
       "      <td>1.239426</td>\n",
       "      <td>271113.476791</td>\n",
       "      <td>0</td>\n",
       "      <td>1</td>\n",
       "      <td>0</td>\n",
       "    </tr>\n",
       "  </tbody>\n",
       "</table>\n",
       "</div>"
      ],
      "text/plain": [
       "       bathroomcnt  bedroomcnt  house_size    latitude    longitude  lotsize  \\\n",
       "39903          2.0         4.0      1498.0  33991186.0 -117827282.0   8032.0   \n",
       "25501          2.5         3.0      1729.0  33584421.0 -117644775.0   5400.0   \n",
       "22151          3.0         4.0      2824.0  34261050.0 -118567605.0  17507.0   \n",
       "21858          2.0         4.0      1464.0  34268048.0 -118679847.0   5400.0   \n",
       "8498           2.0         3.0      1648.0  33719549.0 -117816405.0   6000.0   \n",
       "\n",
       "      regionidcity regionidzip  actual_value  logerror   age  tax_rate  \\\n",
       "39903        24384       96505      312264.0 -0.023107  46.0  1.218741   \n",
       "25501        12773       96996      479202.0  0.017473  25.0  1.007404   \n",
       "22151        12447       96346      552275.0  0.028148  49.0  1.253571   \n",
       "21858        27110       97116      190998.0  0.030073  46.0  1.267217   \n",
       "8498         27491       97016      273462.0 -0.003746  49.0  1.239426   \n",
       "\n",
       "           estimated  LA  Orange  Ventura  \n",
       "39903  296084.211495   1       0        0  \n",
       "25501  498874.336287   0       1        0  \n",
       "22151  589255.063927   1       0        0  \n",
       "21858  204692.353491   0       0        1  \n",
       "8498   271113.476791   0       1        0  "
      ]
     },
     "execution_count": 2,
     "metadata": {},
     "output_type": "execute_result"
    }
   ],
   "source": [
    "df = prepare_data()\n",
    "train, validate, test = split_data(df)\n",
    "train.head()"
   ]
  },
  {
   "cell_type": "code",
   "execution_count": 3,
   "metadata": {},
   "outputs": [
    {
     "data": {
      "text/plain": [
       "77695.66288586396"
      ]
     },
     "execution_count": 3,
     "metadata": {},
     "output_type": "execute_result"
    }
   ],
   "source": [
    "# zillow_estimation evaluation\n",
    "MSE = mean_squared_error(train.actual_value, train.estimated)\n",
    "RMSE_estimate = np.sqrt(MSE)\n",
    "RMSE_estimate"
   ]
  },
  {
   "cell_type": "code",
   "execution_count": 4,
   "metadata": {},
   "outputs": [
    {
     "data": {
      "text/plain": [
       "315660.71230442636"
      ]
     },
     "execution_count": 4,
     "metadata": {},
     "output_type": "execute_result"
    }
   ],
   "source": [
    "# baseline model evluation\n",
    "train['baseline']=train.actual_value.mean()\n",
    "\n",
    "MSE_baseline = mean_squared_error(train.actual_value, train.baseline)\n",
    "RMSE_baseline = np.sqrt(MSE_baseline)\n",
    "RMSE_baseline"
   ]
  },
  {
   "cell_type": "markdown",
   "metadata": {},
   "source": [
    "## Apply clustering algrithm with logerror and create linear model"
   ]
  },
  {
   "cell_type": "code",
   "execution_count": 5,
   "metadata": {
    "scrolled": true
   },
   "outputs": [
    {
     "data": {
      "text/plain": [
       "<matplotlib.axes._subplots.AxesSubplot at 0x1a1ebccd90>"
      ]
     },
     "execution_count": 5,
     "metadata": {},
     "output_type": "execute_result"
    },
    {
     "data": {
      "image/png": "[encoded data removed]",
      "text/plain": [
       "<Figure size 432x288 with 1 Axes>"
      ]
     },
     "metadata": {
      "needs_background": "light"
     },
     "output_type": "display_data"
    }
   ],
   "source": [
    "k =4\n",
    "X = train[['logerror']]\n",
    "kmeans = KMeans(k)\n",
    "kmeans.fit(X)\n",
    "center = pd.DataFrame(kmeans.cluster_centers_, columns=X.columns)\n",
    "sns.barplot(x = center.index, y = center.logerror)"
   ]
  },
  {
   "cell_type": "code",
   "execution_count": 6,
   "metadata": {},
   "outputs": [
    {
     "data": {
      "text/html": [
       "<div>\n",
       "<style scoped>\n",
       "    .dataframe tbody tr th:only-of-type {\n",
       "        vertical-align: middle;\n",
       "    }\n",
       "\n",
       "    .dataframe tbody tr th {\n",
       "        vertical-align: top;\n",
       "    }\n",
       "\n",
       "    .dataframe thead th {\n",
       "        text-align: right;\n",
       "    }\n",
       "</style>\n",
       "<table border=\"1\" class=\"dataframe\">\n",
       "  <thead>\n",
       "    <tr style=\"text-align: right;\">\n",
       "      <th></th>\n",
       "      <th>bathroomcnt</th>\n",
       "      <th>bedroomcnt</th>\n",
       "      <th>house_size</th>\n",
       "      <th>latitude</th>\n",
       "      <th>longitude</th>\n",
       "      <th>lotsize</th>\n",
       "      <th>regionidcity</th>\n",
       "      <th>regionidzip</th>\n",
       "      <th>actual_value</th>\n",
       "      <th>logerror</th>\n",
       "      <th>...</th>\n",
       "      <th>tax_rate</th>\n",
       "      <th>estimated</th>\n",
       "      <th>LA</th>\n",
       "      <th>Orange</th>\n",
       "      <th>Ventura</th>\n",
       "      <th>baseline</th>\n",
       "      <th>cluster_a</th>\n",
       "      <th>cluster_b</th>\n",
       "      <th>cluster_c</th>\n",
       "      <th>cluster_d</th>\n",
       "    </tr>\n",
       "  </thead>\n",
       "  <tbody>\n",
       "    <tr>\n",
       "      <td>39903</td>\n",
       "      <td>2.0</td>\n",
       "      <td>4.0</td>\n",
       "      <td>1498.0</td>\n",
       "      <td>33991186.0</td>\n",
       "      <td>-117827282.0</td>\n",
       "      <td>8032.0</td>\n",
       "      <td>24384</td>\n",
       "      <td>96505</td>\n",
       "      <td>312264.0</td>\n",
       "      <td>-0.023107</td>\n",
       "      <td>...</td>\n",
       "      <td>1.218741</td>\n",
       "      <td>296084.211495</td>\n",
       "      <td>1</td>\n",
       "      <td>0</td>\n",
       "      <td>0</td>\n",
       "      <td>431764.725078</td>\n",
       "      <td>0</td>\n",
       "      <td>1</td>\n",
       "      <td>0</td>\n",
       "      <td>0</td>\n",
       "    </tr>\n",
       "    <tr>\n",
       "      <td>25501</td>\n",
       "      <td>2.5</td>\n",
       "      <td>3.0</td>\n",
       "      <td>1729.0</td>\n",
       "      <td>33584421.0</td>\n",
       "      <td>-117644775.0</td>\n",
       "      <td>5400.0</td>\n",
       "      <td>12773</td>\n",
       "      <td>96996</td>\n",
       "      <td>479202.0</td>\n",
       "      <td>0.017473</td>\n",
       "      <td>...</td>\n",
       "      <td>1.007404</td>\n",
       "      <td>498874.336287</td>\n",
       "      <td>0</td>\n",
       "      <td>1</td>\n",
       "      <td>0</td>\n",
       "      <td>431764.725078</td>\n",
       "      <td>0</td>\n",
       "      <td>0</td>\n",
       "      <td>1</td>\n",
       "      <td>0</td>\n",
       "    </tr>\n",
       "    <tr>\n",
       "      <td>22151</td>\n",
       "      <td>3.0</td>\n",
       "      <td>4.0</td>\n",
       "      <td>2824.0</td>\n",
       "      <td>34261050.0</td>\n",
       "      <td>-118567605.0</td>\n",
       "      <td>17507.0</td>\n",
       "      <td>12447</td>\n",
       "      <td>96346</td>\n",
       "      <td>552275.0</td>\n",
       "      <td>0.028148</td>\n",
       "      <td>...</td>\n",
       "      <td>1.253571</td>\n",
       "      <td>589255.063927</td>\n",
       "      <td>1</td>\n",
       "      <td>0</td>\n",
       "      <td>0</td>\n",
       "      <td>431764.725078</td>\n",
       "      <td>0</td>\n",
       "      <td>0</td>\n",
       "      <td>1</td>\n",
       "      <td>0</td>\n",
       "    </tr>\n",
       "    <tr>\n",
       "      <td>21858</td>\n",
       "      <td>2.0</td>\n",
       "      <td>4.0</td>\n",
       "      <td>1464.0</td>\n",
       "      <td>34268048.0</td>\n",
       "      <td>-118679847.0</td>\n",
       "      <td>5400.0</td>\n",
       "      <td>27110</td>\n",
       "      <td>97116</td>\n",
       "      <td>190998.0</td>\n",
       "      <td>0.030073</td>\n",
       "      <td>...</td>\n",
       "      <td>1.267217</td>\n",
       "      <td>204692.353491</td>\n",
       "      <td>0</td>\n",
       "      <td>0</td>\n",
       "      <td>1</td>\n",
       "      <td>431764.725078</td>\n",
       "      <td>0</td>\n",
       "      <td>0</td>\n",
       "      <td>1</td>\n",
       "      <td>0</td>\n",
       "    </tr>\n",
       "    <tr>\n",
       "      <td>8498</td>\n",
       "      <td>2.0</td>\n",
       "      <td>3.0</td>\n",
       "      <td>1648.0</td>\n",
       "      <td>33719549.0</td>\n",
       "      <td>-117816405.0</td>\n",
       "      <td>6000.0</td>\n",
       "      <td>27491</td>\n",
       "      <td>97016</td>\n",
       "      <td>273462.0</td>\n",
       "      <td>-0.003746</td>\n",
       "      <td>...</td>\n",
       "      <td>1.239426</td>\n",
       "      <td>271113.476791</td>\n",
       "      <td>0</td>\n",
       "      <td>1</td>\n",
       "      <td>0</td>\n",
       "      <td>431764.725078</td>\n",
       "      <td>0</td>\n",
       "      <td>1</td>\n",
       "      <td>0</td>\n",
       "      <td>0</td>\n",
       "    </tr>\n",
       "  </tbody>\n",
       "</table>\n",
       "<p>5 rows × 21 columns</p>\n",
       "</div>"
      ],
      "text/plain": [
       "       bathroomcnt  bedroomcnt  house_size    latitude    longitude  lotsize  \\\n",
       "39903          2.0         4.0      1498.0  33991186.0 -117827282.0   8032.0   \n",
       "25501          2.5         3.0      1729.0  33584421.0 -117644775.0   5400.0   \n",
       "22151          3.0         4.0      2824.0  34261050.0 -118567605.0  17507.0   \n",
       "21858          2.0         4.0      1464.0  34268048.0 -118679847.0   5400.0   \n",
       "8498           2.0         3.0      1648.0  33719549.0 -117816405.0   6000.0   \n",
       "\n",
       "      regionidcity regionidzip  actual_value  logerror  ...  tax_rate  \\\n",
       "39903        24384       96505      312264.0 -0.023107  ...  1.218741   \n",
       "25501        12773       96996      479202.0  0.017473  ...  1.007404   \n",
       "22151        12447       96346      552275.0  0.028148  ...  1.253571   \n",
       "21858        27110       97116      190998.0  0.030073  ...  1.267217   \n",
       "8498         27491       97016      273462.0 -0.003746  ...  1.239426   \n",
       "\n",
       "           estimated  LA  Orange  Ventura       baseline  cluster_a  \\\n",
       "39903  296084.211495   1       0        0  431764.725078          0   \n",
       "25501  498874.336287   0       1        0  431764.725078          0   \n",
       "22151  589255.063927   1       0        0  431764.725078          0   \n",
       "21858  204692.353491   0       0        1  431764.725078          0   \n",
       "8498   271113.476791   0       1        0  431764.725078          0   \n",
       "\n",
       "       cluster_b  cluster_c  cluster_d  \n",
       "39903          1          0          0  \n",
       "25501          0          1          0  \n",
       "22151          0          1          0  \n",
       "21858          0          1          0  \n",
       "8498           1          0          0  \n",
       "\n",
       "[5 rows x 21 columns]"
      ]
     },
     "execution_count": 6,
     "metadata": {},
     "output_type": "execute_result"
    }
   ],
   "source": [
    "train['cluster'] = kmeans.predict(train[['logerror']])\n",
    "cluster_df = pd.get_dummies(train.cluster)\n",
    "cluster_df.columns = ['cluster_a', 'cluster_b', 'cluster_c','cluster_d']\n",
    "# concatenate the dataframe with the 3 county columns to the original dataframe\n",
    "train= pd.concat([train, cluster_df], axis =1)\n",
    "# drop regionidcounty and fips columns\n",
    "train = train.drop(columns = ['cluster'])\n",
    "train.head()"
   ]
  },
  {
   "cell_type": "markdown",
   "metadata": {},
   "source": [
    "### build model predict estimation"
   ]
  },
  {
   "cell_type": "code",
   "execution_count": 7,
   "metadata": {},
   "outputs": [],
   "source": [
    "X =['bathroomcnt', 'bedroomcnt', 'house_size', 'latitude', 'longitude',\n",
    "    'lotsize', 'age', 'tax_rate','LA', 'Orange', 'Ventura',\n",
    "    'cluster_a', 'cluster_b', 'cluster_c','cluster_d']\n",
    "Y =['actual_value']"
   ]
  },
  {
   "cell_type": "code",
   "execution_count": 8,
   "metadata": {},
   "outputs": [
    {
     "data": {
      "text/plain": [
       "Index(['bathroomcnt', 'bedroomcnt', 'tax_rate', 'LA', 'Orange', 'Ventura',\n",
       "       'cluster_a', 'cluster_b', 'cluster_d'],\n",
       "      dtype='object')"
      ]
     },
     "execution_count": 8,
     "metadata": {},
     "output_type": "execute_result"
    }
   ],
   "source": [
    "# Initialize the Linear Regression Object \n",
    "lm = LinearRegression()\n",
    "\n",
    "rfe = RFE(lm, 9)\n",
    "\n",
    "# Transforming data using RFE\n",
    "X_rfe = rfe.fit_transform(train[X],train[Y])  \n",
    "mask = rfe.support_\n",
    "\n",
    "# select the column names of the features that were selected and convert them to a list for future use. \n",
    "rfe_features = train[X].columns[mask]\n",
    "rfe_features"
   ]
  },
  {
   "cell_type": "code",
   "execution_count": 9,
   "metadata": {},
   "outputs": [],
   "source": [
    "lm = LinearRegression()\n",
    "lm.fit(X_rfe,train[Y])\n",
    "train['prediction'] = lm.predict(X_rfe)\n",
    "\n",
    "RMSE_lm = np.sqrt(mean_squared_error(train.actual_value, train.prediction))"
   ]
  },
  {
   "cell_type": "code",
   "execution_count": 10,
   "metadata": {},
   "outputs": [
    {
     "data": {
      "text/plain": [
       "(253293.8026334889, 77695.66288586396, 315660.71230442636)"
      ]
     },
     "execution_count": 10,
     "metadata": {},
     "output_type": "execute_result"
    }
   ],
   "source": [
    "RMSE_lm, RMSE_estimate, RMSE_baseline"
   ]
  },
  {
   "cell_type": "markdown",
   "metadata": {},
   "source": [
    "## Apply clustering algrithm with estimated and create linear model"
   ]
  },
  {
   "cell_type": "code",
   "execution_count": 13,
   "metadata": {},
   "outputs": [],
   "source": [
    "df = prepare_data()\n",
    "train, validate, test = split_data(df)"
   ]
  },
  {
   "cell_type": "code",
   "execution_count": 14,
   "metadata": {
    "scrolled": true
   },
   "outputs": [
    {
     "data": {
      "text/plain": [
       "<matplotlib.axes._subplots.AxesSubplot at 0x1a22de6e50>"
      ]
     },
     "execution_count": 14,
     "metadata": {},
     "output_type": "execute_result"
    },
    {
     "data": {
      "image/png": "[encoded data removed]",
      "text/plain": [
       "<Figure size 432x288 with 1 Axes>"
      ]
     },
     "metadata": {
      "needs_background": "light"
     },
     "output_type": "display_data"
    }
   ],
   "source": [
    "k =4\n",
    "X = train[['estimated']]\n",
    "kmeans = KMeans(k)\n",
    "kmeans.fit(X)\n",
    "center = pd.DataFrame(kmeans.cluster_centers_, columns=X.columns)\n",
    "sns.barplot(x = center.index, y = center.estimated)"
   ]
  },
  {
   "cell_type": "code",
   "execution_count": 15,
   "metadata": {
    "scrolled": true
   },
   "outputs": [
    {
     "data": {
      "text/html": [
       "<div>\n",
       "<style scoped>\n",
       "    .dataframe tbody tr th:only-of-type {\n",
       "        vertical-align: middle;\n",
       "    }\n",
       "\n",
       "    .dataframe tbody tr th {\n",
       "        vertical-align: top;\n",
       "    }\n",
       "\n",
       "    .dataframe thead th {\n",
       "        text-align: right;\n",
       "    }\n",
       "</style>\n",
       "<table border=\"1\" class=\"dataframe\">\n",
       "  <thead>\n",
       "    <tr style=\"text-align: right;\">\n",
       "      <th></th>\n",
       "      <th>bathroomcnt</th>\n",
       "      <th>bedroomcnt</th>\n",
       "      <th>house_size</th>\n",
       "      <th>latitude</th>\n",
       "      <th>longitude</th>\n",
       "      <th>lotsize</th>\n",
       "      <th>regionidcity</th>\n",
       "      <th>regionidzip</th>\n",
       "      <th>actual_value</th>\n",
       "      <th>logerror</th>\n",
       "      <th>age</th>\n",
       "      <th>tax_rate</th>\n",
       "      <th>estimated</th>\n",
       "      <th>LA</th>\n",
       "      <th>Orange</th>\n",
       "      <th>Ventura</th>\n",
       "      <th>cluster_a</th>\n",
       "      <th>cluster_b</th>\n",
       "      <th>cluster_c</th>\n",
       "      <th>cluster_d</th>\n",
       "    </tr>\n",
       "  </thead>\n",
       "  <tbody>\n",
       "    <tr>\n",
       "      <td>39903</td>\n",
       "      <td>2.0</td>\n",
       "      <td>4.0</td>\n",
       "      <td>1498.0</td>\n",
       "      <td>33991186.0</td>\n",
       "      <td>-117827282.0</td>\n",
       "      <td>8032.0</td>\n",
       "      <td>24384</td>\n",
       "      <td>96505</td>\n",
       "      <td>312264.0</td>\n",
       "      <td>-0.023107</td>\n",
       "      <td>46.0</td>\n",
       "      <td>1.218741</td>\n",
       "      <td>296084.211495</td>\n",
       "      <td>1</td>\n",
       "      <td>0</td>\n",
       "      <td>0</td>\n",
       "      <td>1</td>\n",
       "      <td>0</td>\n",
       "      <td>0</td>\n",
       "      <td>0</td>\n",
       "    </tr>\n",
       "    <tr>\n",
       "      <td>25501</td>\n",
       "      <td>2.5</td>\n",
       "      <td>3.0</td>\n",
       "      <td>1729.0</td>\n",
       "      <td>33584421.0</td>\n",
       "      <td>-117644775.0</td>\n",
       "      <td>5400.0</td>\n",
       "      <td>12773</td>\n",
       "      <td>96996</td>\n",
       "      <td>479202.0</td>\n",
       "      <td>0.017473</td>\n",
       "      <td>25.0</td>\n",
       "      <td>1.007404</td>\n",
       "      <td>498874.336287</td>\n",
       "      <td>0</td>\n",
       "      <td>1</td>\n",
       "      <td>0</td>\n",
       "      <td>0</td>\n",
       "      <td>0</td>\n",
       "      <td>1</td>\n",
       "      <td>0</td>\n",
       "    </tr>\n",
       "    <tr>\n",
       "      <td>22151</td>\n",
       "      <td>3.0</td>\n",
       "      <td>4.0</td>\n",
       "      <td>2824.0</td>\n",
       "      <td>34261050.0</td>\n",
       "      <td>-118567605.0</td>\n",
       "      <td>17507.0</td>\n",
       "      <td>12447</td>\n",
       "      <td>96346</td>\n",
       "      <td>552275.0</td>\n",
       "      <td>0.028148</td>\n",
       "      <td>49.0</td>\n",
       "      <td>1.253571</td>\n",
       "      <td>589255.063927</td>\n",
       "      <td>1</td>\n",
       "      <td>0</td>\n",
       "      <td>0</td>\n",
       "      <td>0</td>\n",
       "      <td>0</td>\n",
       "      <td>1</td>\n",
       "      <td>0</td>\n",
       "    </tr>\n",
       "    <tr>\n",
       "      <td>21858</td>\n",
       "      <td>2.0</td>\n",
       "      <td>4.0</td>\n",
       "      <td>1464.0</td>\n",
       "      <td>34268048.0</td>\n",
       "      <td>-118679847.0</td>\n",
       "      <td>5400.0</td>\n",
       "      <td>27110</td>\n",
       "      <td>97116</td>\n",
       "      <td>190998.0</td>\n",
       "      <td>0.030073</td>\n",
       "      <td>46.0</td>\n",
       "      <td>1.267217</td>\n",
       "      <td>204692.353491</td>\n",
       "      <td>0</td>\n",
       "      <td>0</td>\n",
       "      <td>1</td>\n",
       "      <td>1</td>\n",
       "      <td>0</td>\n",
       "      <td>0</td>\n",
       "      <td>0</td>\n",
       "    </tr>\n",
       "    <tr>\n",
       "      <td>8498</td>\n",
       "      <td>2.0</td>\n",
       "      <td>3.0</td>\n",
       "      <td>1648.0</td>\n",
       "      <td>33719549.0</td>\n",
       "      <td>-117816405.0</td>\n",
       "      <td>6000.0</td>\n",
       "      <td>27491</td>\n",
       "      <td>97016</td>\n",
       "      <td>273462.0</td>\n",
       "      <td>-0.003746</td>\n",
       "      <td>49.0</td>\n",
       "      <td>1.239426</td>\n",
       "      <td>271113.476791</td>\n",
       "      <td>0</td>\n",
       "      <td>1</td>\n",
       "      <td>0</td>\n",
       "      <td>1</td>\n",
       "      <td>0</td>\n",
       "      <td>0</td>\n",
       "      <td>0</td>\n",
       "    </tr>\n",
       "  </tbody>\n",
       "</table>\n",
       "</div>"
      ],
      "text/plain": [
       "       bathroomcnt  bedroomcnt  house_size    latitude    longitude  lotsize  \\\n",
       "39903          2.0         4.0      1498.0  33991186.0 -117827282.0   8032.0   \n",
       "25501          2.5         3.0      1729.0  33584421.0 -117644775.0   5400.0   \n",
       "22151          3.0         4.0      2824.0  34261050.0 -118567605.0  17507.0   \n",
       "21858          2.0         4.0      1464.0  34268048.0 -118679847.0   5400.0   \n",
       "8498           2.0         3.0      1648.0  33719549.0 -117816405.0   6000.0   \n",
       "\n",
       "      regionidcity regionidzip  actual_value  logerror   age  tax_rate  \\\n",
       "39903        24384       96505      312264.0 -0.023107  46.0  1.218741   \n",
       "25501        12773       96996      479202.0  0.017473  25.0  1.007404   \n",
       "22151        12447       96346      552275.0  0.028148  49.0  1.253571   \n",
       "21858        27110       97116      190998.0  0.030073  46.0  1.267217   \n",
       "8498         27491       97016      273462.0 -0.003746  49.0  1.239426   \n",
       "\n",
       "           estimated  LA  Orange  Ventura  cluster_a  cluster_b  cluster_c  \\\n",
       "39903  296084.211495   1       0        0          1          0          0   \n",
       "25501  498874.336287   0       1        0          0          0          1   \n",
       "22151  589255.063927   1       0        0          0          0          1   \n",
       "21858  204692.353491   0       0        1          1          0          0   \n",
       "8498   271113.476791   0       1        0          1          0          0   \n",
       "\n",
       "       cluster_d  \n",
       "39903          0  \n",
       "25501          0  \n",
       "22151          0  \n",
       "21858          0  \n",
       "8498           0  "
      ]
     },
     "execution_count": 15,
     "metadata": {},
     "output_type": "execute_result"
    }
   ],
   "source": [
    "train['cluster'] = kmeans.predict(train[['estimated']])\n",
    "cluster_df = pd.get_dummies(train.cluster)\n",
    "cluster_df.columns = ['cluster_a', 'cluster_b', 'cluster_c','cluster_d']\n",
    "# concatenate the dataframe with the 3 county columns to the original dataframe\n",
    "train= pd.concat([train, cluster_df], axis =1)\n",
    "# drop regionidcounty and fips columns\n",
    "train = train.drop(columns = ['cluster'])\n",
    "train.head()"
   ]
  },
  {
   "cell_type": "markdown",
   "metadata": {},
   "source": [
    "### build model predict estimation"
   ]
  },
  {
   "cell_type": "code",
   "execution_count": 16,
   "metadata": {},
   "outputs": [
    {
     "data": {
      "text/plain": [
       "Index(['bathroomcnt', 'tax_rate', 'LA', 'Orange', 'Ventura', 'cluster_a',\n",
       "       'cluster_b', 'cluster_c', 'cluster_d'],\n",
       "      dtype='object')"
      ]
     },
     "execution_count": 16,
     "metadata": {},
     "output_type": "execute_result"
    }
   ],
   "source": [
    "X =['bathroomcnt', 'bedroomcnt', 'house_size', 'latitude', 'longitude',\n",
    "    'lotsize', 'age', 'tax_rate','LA', 'Orange', 'Ventura',\n",
    "    'cluster_a', 'cluster_b', 'cluster_c','cluster_d']\n",
    "Y =['actual_value']\n",
    "\n",
    "# Initialize the Linear Regression Object \n",
    "lm = LinearRegression()\n",
    "\n",
    "rfe = RFE(lm, 9)\n",
    "\n",
    "# Transforming data using RFE\n",
    "X_rfe = rfe.fit_transform(train[X],train[Y])  \n",
    "mask = rfe.support_\n",
    "\n",
    "# select the column names of the features that were selected and convert them to a list for future use. \n",
    "rfe_features = train[X].columns[mask]\n",
    "rfe_features"
   ]
  },
  {
   "cell_type": "code",
   "execution_count": 17,
   "metadata": {
    "scrolled": true
   },
   "outputs": [
    {
     "data": {
      "text/plain": [
       "(115163.30501771338, 77695.66288586396, 315660.71230442636)"
      ]
     },
     "execution_count": 17,
     "metadata": {},
     "output_type": "execute_result"
    }
   ],
   "source": [
    "lm = LinearRegression()\n",
    "lm.fit(X_rfe,train[Y])\n",
    "train['prediction'] = lm.predict(X_rfe)\n",
    "\n",
    "RMSE_lm = np.sqrt(mean_squared_error(train.actual_value, train.prediction))\n",
    "RMSE_lm, RMSE_estimate, RMSE_baseline"
   ]
  },
  {
   "cell_type": "markdown",
   "metadata": {},
   "source": [
    "### Key takeaways\n",
    "***When apply clustering algrithom to estimated instead of logerror, It increase the accurcy of the prediction by a lot***"
   ]
  },
  {
   "cell_type": "markdown",
   "metadata": {},
   "source": [
    "## Apply model to the test data"
   ]
  },
  {
   "cell_type": "code",
   "execution_count": null,
   "metadata": {},
   "outputs": [],
   "source": [
    "test['cluster'] = kmeans.predict(test[['estimated']])\n",
    "cluster_df = pd.get_dummies(test.cluster)\n",
    "cluster_df.columns = ['cluster_a', 'cluster_b', 'cluster_c','cluster_d']\n",
    "# concatenate the dataframe with the 3 county columns to the original dataframe\n",
    "test= pd.concat([test, cluster_df], axis =1)\n",
    "# drop regionidcounty and fips columns\n",
    "test = test.drop(columns = ['cluster'])\n",
    "test.head()"
   ]
  },
  {
   "cell_type": "code",
   "execution_count": null,
   "metadata": {},
   "outputs": [],
   "source": [
    "X = ['bathroomcnt', 'bedroomcnt', 'tax_rate', 'LA', 'Ventura', 'cluster_a',\n",
    "       'cluster_b', 'cluster_c', 'cluster_d']"
   ]
  },
  {
   "cell_type": "code",
   "execution_count": null,
   "metadata": {},
   "outputs": [],
   "source": [
    "test['prediction'] = lm.predict(test[X])\n",
    "\n",
    "RMSE_lm = np.sqrt(mean_squared_error(test.estimated, test.prediction))\n",
    "\n",
    "RMSE_lm"
   ]
  },
  {
   "cell_type": "code",
   "execution_count": null,
   "metadata": {},
   "outputs": [],
   "source": []
  }
 ],
 "metadata": {
  "kernelspec": {
   "display_name": "Python 3",
   "language": "python",
   "name": "python3"
  },
  "language_info": {
   "codemirror_mode": {
    "name": "ipython",
    "version": 3
   },
   "file_extension": ".py",
   "mimetype": "text/x-python",
   "name": "python",
   "nbconvert_exporter": "python",
   "pygments_lexer": "ipython3",
   "version": "3.7.4"
  }
 },
 "nbformat": 4,
 "nbformat_minor": 2
}
